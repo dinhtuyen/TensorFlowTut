{
 "cells": [
  {
   "cell_type": "markdown",
   "metadata": {},
   "source": [
    "## GET FRIENDLY WITH BLACKJACK"
   ]
  },
  {
   "cell_type": "code",
   "execution_count": 1,
   "metadata": {
    "collapsed": false
   },
   "outputs": [
    {
     "name": "stdout",
     "output_type": "stream",
     "text": [
      "PACKAGES LOADED.\n"
     ]
    }
   ],
   "source": [
    "import numpy as np\n",
    "import sys\n",
    "sys.path.append('./env')\n",
    "from blackjack import BlackjackEnv\n",
    "print (\"PACKAGES LOADED.\")"
   ]
  },
  {
   "cell_type": "markdown",
   "metadata": {},
   "source": [
    "## INITIALIZE BLACKJACK ENVIRONMENT"
   ]
  },
  {
   "cell_type": "code",
   "execution_count": 2,
   "metadata": {
    "collapsed": false
   },
   "outputs": [
    {
     "name": "stdout",
     "output_type": "stream",
     "text": [
      "BLACKJACK INITIALIZED.\n",
      "#ACTION: 2\n"
     ]
    }
   ],
   "source": [
    "env = BlackjackEnv()\n",
    "print (\"BLACKJACK INITIALIZED.\")\n",
    "print (\"#ACTION: %d\" % (env.nA))"
   ]
  },
  {
   "cell_type": "markdown",
   "metadata": {},
   "source": [
    "## PRINT FUNCTIONS"
   ]
  },
  {
   "cell_type": "code",
   "execution_count": 3,
   "metadata": {
    "collapsed": true
   },
   "outputs": [],
   "source": [
    "def print_observation(observation):\n",
    "    score, dealer_score, usable_ace = observation\n",
    "    print(\"Player Score: [%d] (Usable Ace: [%s]), Dealer Score: %d\"\n",
    "          % (score, usable_ace, dealer_score))\n",
    "\n",
    "def print_reward(reward):\n",
    "    if reward is +1:\n",
    "        rstr = 'Wins'\n",
    "    elif reward is +0:\n",
    "        rstr = 'Draws'\n",
    "    elif reward is -1:\n",
    "        rstr = 'Loses'\n",
    "    else:\n",
    "        rstr = 'WTF'\n",
    "    print (\"Player [%s]. Get [%+d] reward.\" % (rstr, reward))\n",
    "    \n",
    "def strategy(observation):\n",
    "    score, dealer_score, usable_ace = observation\n",
    "    # Stick (action 0) if the score is > 20, hit (action 1) otherwise\n",
    "    return 0 if score >= 20 else 1"
   ]
  },
  {
   "cell_type": "markdown",
   "metadata": {},
   "source": [
    "## RUN BLACKJACK"
   ]
  },
  {
   "cell_type": "markdown",
   "metadata": {},
   "source": [
    "- Blackjack is a card game where the goal is to obtain cards that sum to as near as possible to 21 without going over.  They're playing against a fixed dealer.\n",
    "- Face cards (Jack, Queen, King) have point value 10. \n",
    "- Aces can either count as 11 or 1, and it's called 'usable' at 11.\n",
    "- This game is placed with an infinite deck (or with replacement).\n",
    "- The game starts with each (player and dealer) having one face up and one face down card.\n",
    "- The player can request additional cards (hit=1) until they decide to stop (stick=0) or exceed 21 (bust).\n",
    "- After the player sticks, the dealer reveals their facedown card, and draws until their sum is 17 or greater.  If the dealer goes bust the player wins. \n",
    "- If neither player nor dealer busts, the outcome (win, lose, draw) is decided by whose sum is closer to 21.  \n",
    "- The reward for winning is +1, drawing is 0, and losing is -1.\n",
    "- The observation of a 3-tuple of: the players current sum, the dealer's one showing card (1-10 where 1 is ace), and whether or not the player holds a usable ace (0 or 1).\n",
    "- This environment corresponds to the version of the blackjack problem described in Example 5.1 in Reinforcement Learning: An Introduction by Sutton and Barto (1998).\n",
    "https://webdocs.cs.ualberta.ca/~sutton/book/the-book.html"
   ]
  },
  {
   "cell_type": "markdown",
   "metadata": {},
   "source": [
    "## ROLLOUT"
   ]
  },
  {
   "cell_type": "code",
   "execution_count": 5,
   "metadata": {
    "collapsed": false,
    "scrolled": false
   },
   "outputs": [
    {
     "name": "stdout",
     "output_type": "stream",
     "text": [
      "================[0-ROUND]================\n",
      "Player Score: [16] (Usable Ace: [False]), Dealer Score: 9\n",
      "Taking action: [Hit]\n",
      "Player Score: [22] (Usable Ace: [False]), Dealer Score: 9\n",
      "Player [Loses]. Get [-1] reward.\n",
      "================[1-ROUND]================\n",
      "Player Score: [21] (Usable Ace: [True]), Dealer Score: 2\n",
      "Taking action: [Stick]\n",
      "Player Score: [21] (Usable Ace: [True]), Dealer Score: 2\n",
      "Player [Wins]. Get [+1] reward.\n",
      "================[2-ROUND]================\n",
      "Player Score: [20] (Usable Ace: [False]), Dealer Score: 5\n",
      "Taking action: [Stick]\n",
      "Player Score: [20] (Usable Ace: [False]), Dealer Score: 5\n",
      "Player [Wins]. Get [+1] reward.\n",
      "================[3-ROUND]================\n",
      "Player Score: [21] (Usable Ace: [True]), Dealer Score: 6\n",
      "Taking action: [Stick]\n",
      "Player Score: [21] (Usable Ace: [True]), Dealer Score: 6\n",
      "Player [Wins]. Get [+1] reward.\n",
      "================[4-ROUND]================\n",
      "Player Score: [21] (Usable Ace: [True]), Dealer Score: 9\n",
      "Taking action: [Stick]\n",
      "Player Score: [21] (Usable Ace: [True]), Dealer Score: 9\n",
      "Player [Wins]. Get [+1] reward.\n",
      "================[5-ROUND]================\n",
      "Player Score: [16] (Usable Ace: [False]), Dealer Score: 8\n",
      "Taking action: [Hit]\n",
      "Player Score: [21] (Usable Ace: [False]), Dealer Score: 8\n",
      "Taking action: [Stick]\n",
      "Player Score: [21] (Usable Ace: [False]), Dealer Score: 8\n",
      "Player [Wins]. Get [+1] reward.\n",
      "================[6-ROUND]================\n",
      "Player Score: [14] (Usable Ace: [False]), Dealer Score: 8\n",
      "Taking action: [Hit]\n",
      "Player Score: [17] (Usable Ace: [False]), Dealer Score: 8\n",
      "Taking action: [Hit]\n",
      "Player Score: [19] (Usable Ace: [False]), Dealer Score: 8\n",
      "Taking action: [Hit]\n",
      "Player Score: [27] (Usable Ace: [False]), Dealer Score: 8\n",
      "Player [Loses]. Get [-1] reward.\n",
      "================[7-ROUND]================\n",
      "Player Score: [18] (Usable Ace: [False]), Dealer Score: 10\n",
      "Taking action: [Hit]\n",
      "Player Score: [23] (Usable Ace: [False]), Dealer Score: 10\n",
      "Player [Loses]. Get [-1] reward.\n",
      "================[8-ROUND]================\n",
      "Player Score: [19] (Usable Ace: [False]), Dealer Score: 5\n",
      "Taking action: [Hit]\n",
      "Player Score: [21] (Usable Ace: [False]), Dealer Score: 5\n",
      "Taking action: [Stick]\n",
      "Player Score: [21] (Usable Ace: [False]), Dealer Score: 5\n",
      "Player [Draws]. Get [+0] reward.\n",
      "================[9-ROUND]================\n",
      "Player Score: [17] (Usable Ace: [False]), Dealer Score: 9\n",
      "Taking action: [Hit]\n",
      "Player Score: [24] (Usable Ace: [False]), Dealer Score: 9\n",
      "Player [Loses]. Get [-1] reward.\n"
     ]
    }
   ],
   "source": [
    "ntotal_episode = 10\n",
    "for i_episode in range(ntotal_episode): \n",
    "    print ('================[%d-ROUND]================' % (i_episode))\n",
    "    observation = env.reset()\n",
    "    print_observation(observation)\n",
    "    for t in range(100):\n",
    "        # DO ACTION\n",
    "        action = strategy(observation)\n",
    "        print(\"Taking action: [%s]\" % ( [\"Stick\", \"Hit\"][action]))\n",
    "        \n",
    "        # GET OBSERVATION\n",
    "        observation, reward, done, _ = env.step(action)\n",
    "        print_observation(observation)\n",
    "        \n",
    "        # IF FINISHED \n",
    "        if done:\n",
    "            print_reward(reward)\n",
    "            break"
   ]
  }
 ],
 "metadata": {
  "kernelspec": {
   "display_name": "Python 2",
   "language": "python",
   "name": "python2"
  },
  "language_info": {
   "codemirror_mode": {
    "name": "ipython",
    "version": 2
   },
   "file_extension": ".py",
   "mimetype": "text/x-python",
   "name": "python",
   "nbconvert_exporter": "python",
   "pygments_lexer": "ipython2",
   "version": "2.7.6"
  }
 },
 "nbformat": 4,
 "nbformat_minor": 1
}
