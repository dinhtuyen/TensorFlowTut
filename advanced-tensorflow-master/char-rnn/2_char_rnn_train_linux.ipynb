{
 "cells": [
  {
   "cell_type": "markdown",
   "metadata": {},
   "source": [
    "# TRAIN CHAR-RNN \n",
    "### LINUX KERNEL SOURCE"
   ]
  },
  {
   "cell_type": "code",
   "execution_count": 1,
   "metadata": {
    "collapsed": false
   },
   "outputs": [
    {
     "name": "stdout",
     "output_type": "stream",
     "text": [
      "PACKAGES LOADED\n"
     ]
    }
   ],
   "source": [
    "import os\n",
    "import time\n",
    "from six.moves import cPickle\n",
    "import numpy as np\n",
    "import tensorflow as tf\n",
    "print (\"PACKAGES LOADED\")"
   ]
  },
  {
   "cell_type": "markdown",
   "metadata": {},
   "source": [
    "# LOAD"
   ]
  },
  {
   "cell_type": "code",
   "execution_count": 2,
   "metadata": {
    "collapsed": false
   },
   "outputs": [
    {
     "name": "stdout",
     "output_type": "stream",
     "text": [
      "CHARS AND VOCAB ARE LOADED FROM [data/linux_kernel/chars_vocab.pkl]\n",
      "CORPUS AND DATA ARE LOADED FROM [data/linux_kernel/corpus_data.pkl]\n"
     ]
    }
   ],
   "source": [
    "load_dir    = \"data/linux_kernel\"\n",
    "load_name = os.path.join(load_dir, 'chars_vocab.pkl')\n",
    "with open(load_name, 'rb') as fload:\n",
    "    chars, vocab = cPickle.load(fload)\n",
    "    print (\"CHARS AND VOCAB ARE LOADED FROM [%s]\" % (load_name))\n",
    "load_name = os.path.join(load_dir, 'corpus_data.pkl')\n",
    "with open(load_name, 'rb') as fload:\n",
    "    corpus, data = cPickle.load(fload)\n",
    "    print (\"CORPUS AND DATA ARE LOADED FROM [%s]\" % (load_name))"
   ]
  },
  {
   "cell_type": "markdown",
   "metadata": {},
   "source": [
    "# GENERATE XDATA AND YDATA"
   ]
  },
  {
   "cell_type": "code",
   "execution_count": 3,
   "metadata": {
    "collapsed": false
   },
   "outputs": [
    {
     "name": "stdout",
     "output_type": "stream",
     "text": [
      "NUM_BATCHES IS 170\n",
      "XDATA IS [36 22  7 ..., 11 25  3] / TYPE IS <type 'numpy.ndarray'> / SHAPE IS (1700000,)\n",
      "YDATA IS [22  7  0 ..., 25  3 36] / TYPE IS <type 'numpy.ndarray'> / SHAPE IS (1700000,)\n"
     ]
    }
   ],
   "source": [
    "batch_size  = 50\n",
    "seq_length  = 200\n",
    "num_batches = int(corpus.size / (batch_size * seq_length))\n",
    "print (\"NUM_BATCHES IS %s\" % (num_batches))\n",
    "\n",
    "corpus_reduced = corpus[:(num_batches*batch_size*seq_length)]\n",
    "xdata = corpus_reduced\n",
    "ydata = np.copy(xdata)\n",
    "ydata[:-1] = xdata[1:]\n",
    "ydata[-1]  = xdata[0]\n",
    "print ('XDATA IS %s / TYPE IS %s / SHAPE IS %s' % (xdata, type(xdata), xdata.shape))\n",
    "print ('YDATA IS %s / TYPE IS %s / SHAPE IS %s' % (ydata, type(ydata), ydata.shape))"
   ]
  },
  {
   "cell_type": "markdown",
   "metadata": {},
   "source": [
    "# GENERATE BATCH"
   ]
  },
  {
   "cell_type": "code",
   "execution_count": 4,
   "metadata": {
    "collapsed": false
   },
   "outputs": [
    {
     "name": "stdout",
     "output_type": "stream",
     "text": [
      "BATCH_SIZE: 50 / NUM_BATCHES: 170\n",
      "TYPE OF 'XBATCHES' IS <type 'list'> AND LENGTH IS 170\n",
      "TYPE OF 'YBATCHES' IS <type 'list'> AND LENGTH IS 170\n",
      "TYPE OF EACH BATCH IS <type 'numpy.ndarray'> AND SHAPE IS (50, 200)\n"
     ]
    }
   ],
   "source": [
    "xbatches = np.split(xdata.reshape(batch_size, -1), num_batches, 1)\n",
    "ybatches = np.split(ydata.reshape(batch_size, -1), num_batches, 1)\n",
    "\n",
    "print (\"BATCH_SIZE: %d / NUM_BATCHES: %d\" % (batch_size, num_batches))\n",
    "print (\"TYPE OF 'XBATCHES' IS %s AND LENGTH IS %d\" \n",
    "    % (type(xbatches), len(xbatches)))\n",
    "print (\"TYPE OF 'YBATCHES' IS %s AND LENGTH IS %d\"\n",
    "    % (type(ybatches), len(ybatches)))\n",
    "print (\"TYPE OF EACH BATCH IS %s AND SHAPE IS %s\" \n",
    "    % (type(xbatches[0]), (xbatches[0]).shape))"
   ]
  },
  {
   "cell_type": "markdown",
   "metadata": {},
   "source": [
    "# XBATCHES & YBATCHES"
   ]
  },
  {
   "cell_type": "code",
   "execution_count": 5,
   "metadata": {
    "collapsed": false
   },
   "outputs": [
    {
     "name": "stdout",
     "output_type": "stream",
     "text": [
      "===========XBATCHES===========\n",
      "[[36 22  7 ...,  1 15  1]\n",
      " [ 6 19 14 ...,  7  6 32]\n",
      " [12 24 13 ...,  2 10 13]\n",
      " ..., \n",
      " [21 62 12 ..., 10  5 14]\n",
      " [17  3  1 ..., 21 54 20]\n",
      " [14 21 12 ...,  7  6 44]]\n",
      "===========YBATCHES===========\n",
      "[[22  7  0 ..., 15  1  8]\n",
      " [19 14  2 ...,  6 32 18]\n",
      " [24 13 11 ..., 10 13 11]\n",
      " ..., \n",
      " [62 12  9 ...,  5 14 27]\n",
      " [ 3  1  1 ..., 54 20  7]\n",
      " [21 12 16 ...,  6 44  7]]\n"
     ]
    }
   ],
   "source": [
    "print (\"===========XBATCHES===========\")\n",
    "print (xbatches[0])\n",
    "print (\"===========YBATCHES===========\")\n",
    "print (ybatches[0])"
   ]
  },
  {
   "cell_type": "markdown",
   "metadata": {},
   "source": [
    "# BUILD SEQ2SEQ MODEL"
   ]
  },
  {
   "cell_type": "code",
   "execution_count": 6,
   "metadata": {
    "collapsed": false
   },
   "outputs": [
    {
     "name": "stdout",
     "output_type": "stream",
     "text": [
      "NETWORK READY\n"
     ]
    }
   ],
   "source": [
    "vocab_size = len(vocab)\n",
    "rnn_size   = 128\n",
    "num_layers = 2\n",
    "grad_clip  = 5. \n",
    "\n",
    "# CONSTRUCT RNN MODEL\n",
    "unitcell   = tf.nn.rnn_cell.BasicLSTMCell(rnn_size)\n",
    "cell       = tf.nn.rnn_cell.MultiRNNCell([unitcell] * num_layers)\n",
    "input_data = tf.placeholder(tf.int32, [batch_size, seq_length])\n",
    "targets    = tf.placeholder(tf.int32, [batch_size, seq_length])\n",
    "istate     = cell.zero_state(batch_size, tf.float32)\n",
    "\n",
    "# WEIGHT\n",
    "with tf.variable_scope('rnnlm') as scope:\n",
    "    # SOFTMAX\n",
    "    try:\n",
    "        softmax_w = tf.get_variable(\"softmax_w\", [rnn_size, vocab_size])\n",
    "        softmax_b = tf.get_variable(\"softmax_b\", [vocab_size])\n",
    "    except ValueError:\n",
    "        scope.reuse_variables()\n",
    "        softmax_w = tf.get_variable(\"softmax_w\", [rnn_size, vocab_size])\n",
    "        softmax_b = tf.get_variable(\"softmax_b\", [vocab_size])\n",
    "    # EMBEDDING MATRIX\n",
    "    embedding = tf.get_variable(\"embedding\", [vocab_size, rnn_size])\n",
    "    # tf.split(split_dim, num_split, value, name='split')\n",
    "    inputs = tf.split(1, seq_length, tf.nn.embedding_lookup(embedding, input_data))\n",
    "    # tf.squeeze(input, axis=None, name=None, squeeze_dims=None)\n",
    "    inputs = [tf.squeeze(_input, [1]) for _input in inputs]\n",
    "\n",
    "# DECODER\n",
    "outputs, last_state = tf.nn.seq2seq.rnn_decoder(inputs, istate, cell\n",
    "                , loop_function=None, scope='rnnlm')\n",
    "output = tf.reshape(tf.concat(1, outputs), [-1, rnn_size])\n",
    "logits = tf.nn.xw_plus_b(output, softmax_w, softmax_b)\n",
    "probs  = tf.nn.softmax(logits)\n",
    "\n",
    "# LOSS\n",
    "loss = tf.nn.seq2seq.sequence_loss_by_example([logits], # Input\n",
    "    [tf.reshape(targets, [-1])], # Target\n",
    "    [tf.ones([batch_size * seq_length])], # Weight \n",
    "    vocab_size)\n",
    "\n",
    "# OPTIMIZER\n",
    "cost     = tf.reduce_sum(loss) / batch_size / seq_length\n",
    "final_state = last_state\n",
    "lr       = tf.Variable(0.0, trainable=False)\n",
    "tvars    = tf.trainable_variables()\n",
    "grads, _ = tf.clip_by_global_norm(tf.gradients(cost, tvars), grad_clip)\n",
    "_optm    = tf.train.AdamOptimizer(lr)\n",
    "optm     = _optm.apply_gradients(zip(grads, tvars))\n",
    "\n",
    "print (\"NETWORK READY\")"
   ]
  },
  {
   "cell_type": "markdown",
   "metadata": {},
   "source": [
    "# TRAIN THE MODEL"
   ]
  },
  {
   "cell_type": "code",
   "execution_count": 11,
   "metadata": {
    "collapsed": false
   },
   "outputs": [
    {
     "name": "stdout",
     "output_type": "stream",
     "text": [
      "[0/34000] cost: 5.1385 / Each batch learning took 1.8473 sec\n",
      "model saved to 'data/linux_kernel/model.ckpt'\n",
      "[500/34000] cost: 2.3497 / Each batch learning took 0.0783 sec\n",
      "[1000/34000] cost: 1.8865 / Each batch learning took 0.0918 sec\n",
      "model saved to 'data/linux_kernel/model.ckpt'\n",
      "[1500/34000] cost: 1.6761 / Each batch learning took 0.0780 sec\n",
      "[2000/34000] cost: 1.5520 / Each batch learning took 0.0784 sec\n",
      "model saved to 'data/linux_kernel/model.ckpt'\n",
      "[2500/34000] cost: 1.3935 / Each batch learning took 0.0786 sec\n",
      "[3000/34000] cost: 1.3845 / Each batch learning took 0.0837 sec\n",
      "model saved to 'data/linux_kernel/model.ckpt'\n",
      "[3500/34000] cost: 1.4580 / Each batch learning took 0.0787 sec\n",
      "[4000/34000] cost: 1.4386 / Each batch learning took 0.0787 sec\n",
      "model saved to 'data/linux_kernel/model.ckpt'\n",
      "[4500/34000] cost: 1.4224 / Each batch learning took 0.0790 sec\n",
      "[5000/34000] cost: 1.3573 / Each batch learning took 0.0790 sec\n",
      "model saved to 'data/linux_kernel/model.ckpt'\n",
      "[5500/34000] cost: 1.2777 / Each batch learning took 0.0782 sec\n",
      "[6000/34000] cost: 1.3146 / Each batch learning took 0.0843 sec\n",
      "model saved to 'data/linux_kernel/model.ckpt'\n",
      "[6500/34000] cost: 1.2749 / Each batch learning took 0.0786 sec\n",
      "[7000/34000] cost: 1.3253 / Each batch learning took 0.0804 sec\n",
      "model saved to 'data/linux_kernel/model.ckpt'\n",
      "[7500/34000] cost: 1.2925 / Each batch learning took 0.0841 sec\n",
      "[8000/34000] cost: 1.2638 / Each batch learning took 0.0785 sec\n",
      "model saved to 'data/linux_kernel/model.ckpt'\n",
      "[8500/34000] cost: 1.2009 / Each batch learning took 0.0790 sec\n",
      "[9000/34000] cost: 1.2745 / Each batch learning took 0.0843 sec\n",
      "model saved to 'data/linux_kernel/model.ckpt'\n",
      "[9500/34000] cost: 1.1633 / Each batch learning took 0.0788 sec\n",
      "[10000/34000] cost: 1.2595 / Each batch learning took 0.0815 sec\n",
      "model saved to 'data/linux_kernel/model.ckpt'\n",
      "[10500/34000] cost: 1.2017 / Each batch learning took 0.0786 sec\n",
      "[11000/34000] cost: 1.2309 / Each batch learning took 0.0789 sec\n",
      "model saved to 'data/linux_kernel/model.ckpt'\n",
      "[11500/34000] cost: 1.2047 / Each batch learning took 0.0785 sec\n",
      "[12000/34000] cost: 1.1797 / Each batch learning took 0.0797 sec\n",
      "model saved to 'data/linux_kernel/model.ckpt'\n",
      "[12500/34000] cost: 1.2487 / Each batch learning took 0.0788 sec\n",
      "[13000/34000] cost: 1.1979 / Each batch learning took 0.0787 sec\n",
      "model saved to 'data/linux_kernel/model.ckpt'\n",
      "[13500/34000] cost: 1.1958 / Each batch learning took 0.0790 sec\n",
      "[14000/34000] cost: 1.1993 / Each batch learning took 0.0810 sec\n",
      "model saved to 'data/linux_kernel/model.ckpt'\n",
      "[14500/34000] cost: 1.1562 / Each batch learning took 0.0804 sec\n",
      "[15000/34000] cost: 1.2057 / Each batch learning took 0.0795 sec\n",
      "model saved to 'data/linux_kernel/model.ckpt'\n",
      "[15500/34000] cost: 1.1878 / Each batch learning took 0.0821 sec\n",
      "[16000/34000] cost: 1.1791 / Each batch learning took 0.0790 sec\n",
      "model saved to 'data/linux_kernel/model.ckpt'\n",
      "[16500/34000] cost: 1.2019 / Each batch learning took 0.0788 sec\n",
      "[17000/34000] cost: 1.2114 / Each batch learning took 0.0795 sec\n",
      "model saved to 'data/linux_kernel/model.ckpt'\n",
      "[17500/34000] cost: 1.2184 / Each batch learning took 0.0816 sec\n",
      "[18000/34000] cost: 1.1991 / Each batch learning took 0.0792 sec\n",
      "model saved to 'data/linux_kernel/model.ckpt'\n",
      "[18500/34000] cost: 1.1523 / Each batch learning took 0.0795 sec\n",
      "[19000/34000] cost: 1.2172 / Each batch learning took 0.0788 sec\n",
      "model saved to 'data/linux_kernel/model.ckpt'\n",
      "[19500/34000] cost: 1.1615 / Each batch learning took 0.0839 sec\n",
      "[20000/34000] cost: 1.2863 / Each batch learning took 0.0789 sec\n",
      "model saved to 'data/linux_kernel/model.ckpt'\n",
      "[20500/34000] cost: 1.2126 / Each batch learning took 0.0810 sec\n",
      "[21000/34000] cost: 1.2175 / Each batch learning took 0.0794 sec\n",
      "model saved to 'data/linux_kernel/model.ckpt'\n",
      "[21500/34000] cost: 1.1687 / Each batch learning took 0.0837 sec\n",
      "[22000/34000] cost: 1.1720 / Each batch learning took 0.0793 sec\n",
      "model saved to 'data/linux_kernel/model.ckpt'\n",
      "[22500/34000] cost: 1.1528 / Each batch learning took 0.0810 sec\n",
      "[23000/34000] cost: 1.1406 / Each batch learning took 0.0792 sec\n",
      "model saved to 'data/linux_kernel/model.ckpt'\n",
      "[23500/34000] cost: 1.1536 / Each batch learning took 0.0786 sec\n",
      "[24000/34000] cost: 1.1143 / Each batch learning took 0.0793 sec\n",
      "model saved to 'data/linux_kernel/model.ckpt'\n",
      "[24500/34000] cost: 1.1599 / Each batch learning took 0.0790 sec\n",
      "[25000/34000] cost: 1.2145 / Each batch learning took 0.0810 sec\n",
      "model saved to 'data/linux_kernel/model.ckpt'\n",
      "[25500/34000] cost: 1.1626 / Each batch learning took 0.0811 sec\n",
      "[26000/34000] cost: 1.2356 / Each batch learning took 0.0794 sec\n",
      "model saved to 'data/linux_kernel/model.ckpt'\n",
      "[26500/34000] cost: 1.1894 / Each batch learning took 0.0791 sec\n",
      "[27000/34000] cost: 1.1921 / Each batch learning took 0.0839 sec\n",
      "model saved to 'data/linux_kernel/model.ckpt'\n",
      "[27500/34000] cost: 1.1478 / Each batch learning took 0.0800 sec\n",
      "[28000/34000] cost: 1.1653 / Each batch learning took 0.0822 sec\n",
      "model saved to 'data/linux_kernel/model.ckpt'\n",
      "[28500/34000] cost: 1.0795 / Each batch learning took 0.0789 sec\n",
      "[29000/34000] cost: 1.2313 / Each batch learning took 0.0791 sec\n",
      "model saved to 'data/linux_kernel/model.ckpt'\n",
      "[29500/34000] cost: 1.1762 / Each batch learning took 0.0794 sec\n",
      "[30000/34000] cost: 1.2000 / Each batch learning took 0.0789 sec\n",
      "model saved to 'data/linux_kernel/model.ckpt'\n",
      "[30500/34000] cost: 1.1371 / Each batch learning took 0.0795 sec\n",
      "[31000/34000] cost: 1.1719 / Each batch learning took 0.0788 sec\n",
      "model saved to 'data/linux_kernel/model.ckpt'\n",
      "[31500/34000] cost: 1.2013 / Each batch learning took 0.0789 sec\n",
      "[32000/34000] cost: 1.1875 / Each batch learning took 0.0790 sec\n",
      "model saved to 'data/linux_kernel/model.ckpt'\n",
      "[32500/34000] cost: 1.1885 / Each batch learning took 0.0789 sec\n",
      "[33000/34000] cost: 1.2168 / Each batch learning took 0.0792 sec\n",
      "model saved to 'data/linux_kernel/model.ckpt'\n",
      "[33500/34000] cost: 1.1384 / Each batch learning took 0.0810 sec\n"
     ]
    }
   ],
   "source": [
    "save_dir      = \"data/linux_kernel\"\n",
    "num_epochs    = 200\n",
    "print_every   = 500\n",
    "save_every    = 1000\n",
    "learning_rate = 0.001\n",
    "decay_rate    = 0.97\n",
    "\n",
    "sess = tf.Session()\n",
    "sess.run(tf.global_variables_initializer())\n",
    "summary_writer = tf.summary.FileWriter(save_dir, graph=sess.graph)\n",
    "saver = tf.train.Saver(tf.global_variables())\n",
    "init_time = time.time()\n",
    "for epoch in range(num_epochs): # FOR EACH EPOCH\n",
    "    sess.run(tf.assign(lr, learning_rate * (decay_rate ** epoch)))\n",
    "    state     = sess.run(istate)\n",
    "    randbatchidx = np.random.permutation(num_batches)\n",
    "    for iteration in range(num_batches): # FOR EACH ITERATION\n",
    "        xbatch       = xbatches[randbatchidx[iteration]]\n",
    "        ybatch       = ybatches[randbatchidx[iteration]]\n",
    "        \n",
    "        start_time   = time.time()\n",
    "        train_loss, state, _ = sess.run([cost, final_state, optm]\n",
    "            , feed_dict={input_data: xbatch, targets: ybatch, istate: state}) \n",
    "        total_iter = epoch*num_batches + iteration\n",
    "        end_time   = time.time();\n",
    "        duration   = end_time - start_time\n",
    "        \n",
    "        if total_iter % print_every == 0:\n",
    "            print (\"[%d/%d] cost: %.4f / Each batch learning took %.4f sec\" \n",
    "                   % (total_iter, num_epochs*num_batches, train_loss, duration))\n",
    "        if total_iter % save_every == 0: \n",
    "            ckpt_path = os.path.join(save_dir, 'model.ckpt')\n",
    "            saver.save(sess, ckpt_path, global_step = total_iter)\n",
    "            print(\"model saved to '%s'\" % (ckpt_path)) "
   ]
  }
 ],
 "metadata": {
  "kernelspec": {
   "display_name": "Python 2",
   "language": "python",
   "name": "python2"
  },
  "language_info": {
   "codemirror_mode": {
    "name": "ipython",
    "version": 2
   },
   "file_extension": ".py",
   "mimetype": "text/x-python",
   "name": "python",
   "nbconvert_exporter": "python",
   "pygments_lexer": "ipython2",
   "version": "2.7.6"
  }
 },
 "nbformat": 4,
 "nbformat_minor": 1
}
