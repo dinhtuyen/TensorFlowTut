{
 "cells": [
  {
   "cell_type": "markdown",
   "metadata": {},
   "source": [
    "# SAMPLE CHAR-RNN \n",
    "### LINUX KERNEL SOURCE"
   ]
  },
  {
   "cell_type": "code",
   "execution_count": 1,
   "metadata": {
    "collapsed": false
   },
   "outputs": [
    {
     "name": "stdout",
     "output_type": "stream",
     "text": [
      "PACKAGES LOADED\n"
     ]
    }
   ],
   "source": [
    "import os\n",
    "import time\n",
    "from six.moves import cPickle\n",
    "import numpy as np\n",
    "import tensorflow as tf\n",
    "print (\"PACKAGES LOADED\")"
   ]
  },
  {
   "cell_type": "markdown",
   "metadata": {},
   "source": [
    "# LOAD"
   ]
  },
  {
   "cell_type": "code",
   "execution_count": 2,
   "metadata": {
    "collapsed": false
   },
   "outputs": [
    {
     "name": "stdout",
     "output_type": "stream",
     "text": [
      "CHARS AND VOCAB ARE LOADED FROM [data/linux_kernel/chars_vocab.pkl]\n",
      "CORPUS AND DATA ARE LOADED FROM [data/linux_kernel/corpus_data.pkl]\n"
     ]
    }
   ],
   "source": [
    "load_dir    = \"data/linux_kernel\"\n",
    "load_name = os.path.join(load_dir, 'chars_vocab.pkl')\n",
    "with open(load_name, 'rb') as fload:\n",
    "    chars, vocab = cPickle.load(fload)\n",
    "    print (\"CHARS AND VOCAB ARE LOADED FROM [%s]\" % (load_name))\n",
    "load_name = os.path.join(load_dir, 'corpus_data.pkl')\n",
    "with open(load_name, 'rb') as fload:\n",
    "    corpus, data = cPickle.load(fload)\n",
    "    print (\"CORPUS AND DATA ARE LOADED FROM [%s]\" % (load_name))"
   ]
  },
  {
   "cell_type": "markdown",
   "metadata": {},
   "source": [
    "# BUILD SEQ2SEQ MODEL"
   ]
  },
  {
   "cell_type": "code",
   "execution_count": 3,
   "metadata": {
    "collapsed": false
   },
   "outputs": [
    {
     "name": "stdout",
     "output_type": "stream",
     "text": [
      "NETWORK READY\n"
     ]
    }
   ],
   "source": [
    "batch_size = 1\n",
    "seq_length = 1\n",
    "vocab_size = len(vocab)\n",
    "rnn_size   = 128\n",
    "num_layers = 2\n",
    "grad_clip  = 5. \n",
    "\n",
    "# CONSTRUCT RNN MODEL\n",
    "unitcell   = tf.nn.rnn_cell.BasicLSTMCell(rnn_size)\n",
    "cell       = tf.nn.rnn_cell.MultiRNNCell([unitcell] * num_layers)\n",
    "input_data = tf.placeholder(tf.int32, [batch_size, seq_length])\n",
    "targets    = tf.placeholder(tf.int32, [batch_size, seq_length])\n",
    "istate     = cell.zero_state(batch_size, tf.float32)\n",
    "\n",
    "# WEIGHT\n",
    "with tf.variable_scope('rnnlm') as scope:\n",
    "    # SOFTMAX\n",
    "    try:\n",
    "        softmax_w = tf.get_variable(\"softmax_w\", [rnn_size, vocab_size])\n",
    "        softmax_b = tf.get_variable(\"softmax_b\", [vocab_size])\n",
    "    except ValueError:\n",
    "        scope.reuse_variables()\n",
    "        softmax_w = tf.get_variable(\"softmax_w\", [rnn_size, vocab_size])\n",
    "        softmax_b = tf.get_variable(\"softmax_b\", [vocab_size])\n",
    "    # EMBEDDING MATRIX\n",
    "    embedding = tf.get_variable(\"embedding\", [vocab_size, rnn_size])\n",
    "    # tf.split(split_dim, num_split, value, name='split')\n",
    "    inputs = tf.split(1, seq_length, tf.nn.embedding_lookup(embedding, input_data))\n",
    "    # tf.squeeze(input, axis=None, name=None, squeeze_dims=None)\n",
    "    inputs = [tf.squeeze(_input, [1]) for _input in inputs]\n",
    "\n",
    "# DECODER\n",
    "outputs, last_state = tf.nn.seq2seq.rnn_decoder(inputs, istate, cell\n",
    "                , loop_function=None, scope='rnnlm')\n",
    "output = tf.reshape(tf.concat(1, outputs), [-1, rnn_size])\n",
    "logits = tf.nn.xw_plus_b(output, softmax_w, softmax_b)\n",
    "probs  = tf.nn.softmax(logits)\n",
    "\n",
    "# LOSS\n",
    "loss = tf.nn.seq2seq.sequence_loss_by_example([logits], # Input\n",
    "    [tf.reshape(targets, [-1])], # Target\n",
    "    [tf.ones([batch_size * seq_length])], # Weight \n",
    "    vocab_size)\n",
    "\n",
    "# OPTIMIZER\n",
    "cost     = tf.reduce_sum(loss) / batch_size / seq_length\n",
    "final_state = last_state\n",
    "lr       = tf.Variable(0.0, trainable=False)\n",
    "tvars    = tf.trainable_variables()\n",
    "grads, _ = tf.clip_by_global_norm(tf.gradients(cost, tvars), grad_clip)\n",
    "_optm    = tf.train.AdamOptimizer(lr)\n",
    "optm     = _optm.apply_gradients(zip(grads, tvars))\n",
    "\n",
    "print (\"NETWORK READY\")"
   ]
  },
  {
   "cell_type": "markdown",
   "metadata": {},
   "source": [
    "# RESTORE MODEL"
   ]
  },
  {
   "cell_type": "code",
   "execution_count": 4,
   "metadata": {
    "collapsed": false
   },
   "outputs": [
    {
     "name": "stdout",
     "output_type": "stream",
     "text": [
      "data/linux_kernel/model.ckpt-33000\n"
     ]
    }
   ],
   "source": [
    "sess = tf.Session()\n",
    "sess.run(tf.global_variables_initializer())\n",
    "saver = tf.train.Saver(tf.global_variables())\n",
    "ckpt  = tf.train.get_checkpoint_state(load_dir)\n",
    "\n",
    "print (ckpt.model_checkpoint_path)\n",
    "saver.restore(sess, ckpt.model_checkpoint_path)"
   ]
  },
  {
   "cell_type": "markdown",
   "metadata": {},
   "source": [
    "# GENERATE"
   ]
  },
  {
   "cell_type": "code",
   "execution_count": 8,
   "metadata": {
    "collapsed": false
   },
   "outputs": [
    {
     "name": "stdout",
     "output_type": "stream",
     "text": [
      "____________________________________________________________________________________________________\n",
      "/* */\n",
      "const struct task_struct *tsk)\n",
      "{\n",
      "\tunsigned long addr;\n",
      "\tint i;\n",
      "\n",
      "\t/*\n",
      "\t * We awailation_namement for memexy overaining this\n",
      "\t * the outs runging.  If the cfs_rq;\n",
      "\tfor_each_bacher;\n",
      "}\n",
      "\n",
      "static unsigned long started_struct *tsk;\n",
      "\tunsigned long ling_register_cgroup *q;\n",
      "};\n",
      "\n",
      "/*\n",
      " * Note the itcers, css.\n",
      " *\n",
      " * Callecind from print and not\n",
      "\t * slow that in size our clushing work the some\" will function with the resum more the case be BOK_NEBLE\tunsigned long vecsumest, mode, locken->filter_mail[offies, I(struct that, curr);\n",
      "\n",
      "\tdo.sc_idned_jiffies_divation_file_add();\n",
      "\tpendmap += x.sub;\n",
      "\n",
      "\ttrylock = rirestars_free;\n",
      "\n",
      "\tlist = task_to_lock(fstart_bread, entry);\n",
      "\tretval_group(&cgrp->de;\n",
      "\tunsigned long len;\n",
      "\n",
      "\tdelay_mignal(table, aggrs[i\\n[] = (0 && (i HZ -EMACHE_SCHED / /* HZ) << SWARTARTSTROSEGE, &malling, uval, 0, sizeof(int), old_entry);\n",
      "\n",
      "\tif (!log_sig_deffind(&timer->it_info >= end->botion,\n",
      "\t\t\t    SA_PIGPINLEN);\n",
      "\t\tspin_unlock(&rq->lock, flags);\n",
      "\t\treturn 0;\n",
      "\t}\n",
      "\n",
      "\tresult[se], 1);\n",
      "}\n",
      "#endif\n",
      "\n",
      "#ifdefnch_enabled = set_group_sech[nmit].name;\n",
      "\n",
      "\texeapc = task_prof_swatch(&module_addresses->mod->console_by_lock);\n",
      "#endif\n",
      "\t}\n",
      "\treturn __cpu_content_task(struct audit_low26_is_operation = {\n",
      "\t.name = num_pevec_quiestra1,\n",
      "\t.zoole = sechdrs,\n",
      "\t.refThis_rq(&tree=%d,\n",
      "\t},\n",
      "\t{ 55,\t\"irqsatgr\" },\n",
      "\t{ 25V4\" },\n",
      "\t{ 32,\t\"orurt \" usave be then uenter as approared\n",
      " *   Prevents cpupared buties;\n",
      "\t\tDEBUGP (this_list_entry - data->forsage)\n",
      "\t\t\treturn -EINVAL;\n",
      "\n",
      "\t\tif (int error)\n",
      "\t\t\trule_console_alams_init_entity = NULL;\n",
      "\t}\n",
      "\t-requeuc = 1;\n",
      "\n",
      "\tretsytec: ass page in the conture we need to\n",
      " * callback that this filest to caller op must be should cleanuit CPUs will pering relax readusect be addrol delay of usermol and allocatary\n",
      "\t * idlemented interrupt up whinding untibuse, avoid manumnon\n",
      "#include void\n",
      "chink_rt_mutex_unlock(struct rougdencluder *wake_queue)\n",
      "{\n",
      "\tPT_SCACK(hrtimer_group.rlibled, and);\n",
      "\tprintk(\"%s\" \"howewered: All must rontured by an Nocks that\n",
      "\t\t\t */\n",
      "\t\tif (!args);\n",
      "\n",
      "\t\tif (p->sd, &current->ppi_mutex);\n",
      "\t} while (first\n",
      "____________________________________________________________________________________________________\n"
     ]
    }
   ],
   "source": [
    "# Sampling function\n",
    "def weighted_pick(weights):\n",
    "    t = np.cumsum(weights)\n",
    "    s = np.sum(weights)\n",
    "    return(int(np.searchsorted(t, np.random.rand(1)*s)))\n",
    "\n",
    "# Sample using RNN and prime characters\n",
    "prime = \"/* \"\n",
    "state = sess.run(cell.zero_state(1, tf.float32))\n",
    "for char in prime[:-1]:\n",
    "    x = np.zeros((1, 1))\n",
    "    x[0, 0] = vocab[char]\n",
    "    state = sess.run(final_state, feed_dict={input_data: x, istate:state})\n",
    "\n",
    "# Sample 'num' characters\n",
    "ret  = prime\n",
    "char = prime[-1] # <= This goes IN! \n",
    "num  = 2000\n",
    "for n in range(num):\n",
    "    x = np.zeros((1, 1))\n",
    "    x[0, 0] = vocab[char]\n",
    "    [probsval, state] = sess.run([probs, final_state]\n",
    "        , feed_dict={input_data: x, istate:state})\n",
    "    p      = probsval[0] \n",
    "    sample = weighted_pick(p)\n",
    "    # sample = np.argmax(p)\n",
    "    pred   = chars[sample]\n",
    "    ret    = ret + pred\n",
    "    char   = pred\n",
    "    \n",
    "print (\"_\"*100)\n",
    "print (ret)\n",
    "print (\"_\"*100)"
   ]
  }
 ],
 "metadata": {
  "kernelspec": {
   "display_name": "Python 2",
   "language": "python",
   "name": "python2"
  },
  "language_info": {
   "codemirror_mode": {
    "name": "ipython",
    "version": 2
   },
   "file_extension": ".py",
   "mimetype": "text/x-python",
   "name": "python",
   "nbconvert_exporter": "python",
   "pygments_lexer": "ipython2",
   "version": "2.7.6"
  }
 },
 "nbformat": 4,
 "nbformat_minor": 1
}
