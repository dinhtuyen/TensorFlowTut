{
 "cells": [
  {
   "cell_type": "markdown",
   "metadata": {},
   "source": [
    "# PREPROCESS TEXT"
   ]
  },
  {
   "cell_type": "code",
   "execution_count": 49,
   "metadata": {
    "collapsed": false
   },
   "outputs": [
    {
     "name": "stdout",
     "output_type": "stream",
     "text": [
      "PACKAGES LOADED\n"
     ]
    }
   ],
   "source": [
    "import os\n",
    "import collections\n",
    "from six.moves import cPickle\n",
    "import numpy as np\n",
    "print (\"PACKAGES LOADED\")"
   ]
  },
  {
   "cell_type": "markdown",
   "metadata": {},
   "source": [
    "# LOAD TEXT"
   ]
  },
  {
   "cell_type": "code",
   "execution_count": 2,
   "metadata": {
    "collapsed": false
   },
   "outputs": [
    {
     "name": "stdout",
     "output_type": "stream",
     "text": [
      "TYPE OF DATA IS <type 'str'>\n",
      "TEXT LOADED FROM [data/linux_kernel/input.txt]\n"
     ]
    }
   ],
   "source": [
    "data_dir    = \"data/linux_kernel\"\n",
    "save_dir    = \"data/linux_kernel\"\n",
    "input_file  = os.path.join(data_dir, \"input.txt\")\n",
    "with open(input_file, \"r\") as f:\n",
    "    data = f.read()\n",
    "print (\"TYPE OF DATA IS %s\" % (type(data)))\n",
    "print (\"TEXT LOADED FROM [%s]\" % (input_file))"
   ]
  },
  {
   "cell_type": "markdown",
   "metadata": {},
   "source": [
    "# COUNT CHARACTERS"
   ]
  },
  {
   "cell_type": "code",
   "execution_count": 22,
   "metadata": {
    "collapsed": false
   },
   "outputs": [
    {
     "name": "stdout",
     "output_type": "stream",
     "text": [
      "TYPE OF 'COUNTER.ITEM()' IS [<type 'list'>] AND LENGTH IS [99]\n",
      "[0]TH ELEMENT IS [(' ', 171222)]\n",
      "[1]TH ELEMENT IS [('$', 61)]\n",
      "[2]TH ELEMENT IS [('(', 23412)]\n",
      "[3]TH ELEMENT IS [(',', 17025)]\n",
      "[4]TH ELEMENT IS [('0', 4322)]\n"
     ]
    }
   ],
   "source": [
    "counter = collections.Counter(data)\n",
    "print (\"TYPE OF 'COUNTER.ITEM()' IS [%s] AND LENGTH IS [%d]\" \n",
    "       % (type(counter.items()), len(counter.items()))) \n",
    "for i in range(5):\n",
    "    print (\"[%d]TH ELEMENT IS [%s]\" % (i, counter.items()[i]))"
   ]
  },
  {
   "cell_type": "markdown",
   "metadata": {},
   "source": [
    "# SORT CHARACTER COUNTS"
   ]
  },
  {
   "cell_type": "code",
   "execution_count": 23,
   "metadata": {
    "collapsed": false
   },
   "outputs": [
    {
     "name": "stdout",
     "output_type": "stream",
     "text": [
      "TYPE OF 'COUNT_PAIRS' IS [<type 'list'>] AND LENGTH IS [99]\n",
      "[0]TH ELEMENT IS [(' ', 171222)]\n",
      "[1]TH ELEMENT IS [('e', 113021)]\n",
      "[2]TH ELEMENT IS [('t', 102154)]\n",
      "[3]TH ELEMENT IS [('r', 76185)]\n",
      "[4]TH ELEMENT IS [('i', 75486)]\n"
     ]
    }
   ],
   "source": [
    "count_pairs = sorted(counter.items(), key=lambda x: -x[1]) \n",
    "print (\"TYPE OF 'COUNT_PAIRS' IS [%s] AND LENGTH IS [%d]\" \n",
    "       % (type(count_pairs), len(count_pairs))) \n",
    "for i in range(5):\n",
    "    print (\"[%d]TH ELEMENT IS [%s]\" % (i, count_pairs[i]))"
   ]
  },
  {
   "cell_type": "markdown",
   "metadata": {},
   "source": [
    "# MAKE DICTIONARY\n",
    "## : CHARS & VOCAB"
   ]
  },
  {
   "cell_type": "code",
   "execution_count": 24,
   "metadata": {
    "collapsed": false
   },
   "outputs": [
    {
     "name": "stdout",
     "output_type": "stream",
     "text": [
      "TYPE OF 'CHARS' IS [<type 'tuple'>] AND LENGTH IS [99]\n",
      "TYPE OF 'COUNTS' IS [<type 'tuple'>] AND LENGTH IS [99]\n",
      "TYPE OF 'VOCAB' IS [<type 'dict'>] AND LENGTH IS [99]\n"
     ]
    }
   ],
   "source": [
    "chars, counts = zip(*count_pairs)\n",
    "vocab = dict(zip(chars, range(len(chars))))\n",
    "print (\"TYPE OF 'CHARS' IS [%s] AND LENGTH IS [%d]\" \n",
    "    % (type(chars), len(chars))) \n",
    "print (\"TYPE OF 'COUNTS' IS [%s] AND LENGTH IS [%d]\" \n",
    "    % (type(counts), len(counts))) \n",
    "print (\"TYPE OF 'VOCAB' IS [%s] AND LENGTH IS [%d]\" \n",
    "    % (type(vocab), len(vocab))) "
   ]
  },
  {
   "cell_type": "markdown",
   "metadata": {},
   "source": [
    "# USAGE OF 'CHARS' AND 'VOCAB"
   ]
  },
  {
   "cell_type": "code",
   "execution_count": 30,
   "metadata": {
    "collapsed": false
   },
   "outputs": [
    {
     "name": "stdout",
     "output_type": "stream",
     "text": [
      "==========CHARS USAGE==========\n",
      " [0/3] CHARS[0] IS [ ]\n",
      " [1/3] CHARS[1] IS [e]\n",
      " [2/3] CHARS[2] IS [t]\n",
      " [3/3] CHARS[3] IS [r]\n",
      " [4/3] CHARS[4] IS [i]\n",
      "==========VOCAB USAGE==========\n",
      " [0/3] VOCAB[ ] IS [0]\n",
      " [1/3] VOCAB[e] IS [1]\n",
      " [2/3] VOCAB[t] IS [2]\n",
      " [3/3] VOCAB[r] IS [3]\n",
      " [4/3] VOCAB[i] IS [4]\n"
     ]
    }
   ],
   "source": [
    "# CHARS: NUMBER -> CHAR\n",
    "print (\"==========CHARS USAGE==========\")\n",
    "for i in range(5):\n",
    "    print (\" [%d/%d]\" % (i, 3)), # COMMA STOPS LINE CHANGE\n",
    "    print (\"CHARS[%d] IS [%s]\" % (i, chars[i]))\n",
    "# VOCAB: CHAR -> NUMBER\n",
    "print (\"==========VOCAB USAGE==========\")\n",
    "for i in range(5):\n",
    "    print (\" [%d/%d]\" % (i, 3)), # <= This comma remove '\\n'\n",
    "    print (\"VOCAB[%s] IS [%s]\" % (chars[i], vocab[chars[i]]))"
   ]
  },
  {
   "cell_type": "markdown",
   "metadata": {},
   "source": [
    "# SAVE CHARS AND VOCAB"
   ]
  },
  {
   "cell_type": "code",
   "execution_count": 44,
   "metadata": {
    "collapsed": false
   },
   "outputs": [
    {
     "name": "stdout",
     "output_type": "stream",
     "text": [
      "CHARS AND VOCAB ARE SAVED TO [data/linux_kernel/chars_vocab.pkl]\n",
      "CHARS AND VOCAB ARE LOADED FROM [data/linux_kernel/chars_vocab.pkl]\n",
      "==========CHARS2==========\n",
      " [0/3] CHARS2[0] IS [ ]\n",
      " [1/3] CHARS2[1] IS [e]\n",
      " [2/3] CHARS2[2] IS [t]\n",
      " [3/3] CHARS2[3] IS [r]\n",
      " [4/3] CHARS2[4] IS [i]\n",
      "==========VOCAB2==========\n",
      " [0/3] VOCAB2[ ] IS [0]\n",
      " [1/3] VOCAB2[e] IS [1]\n",
      " [2/3] VOCAB2[t] IS [2]\n",
      " [3/3] VOCAB2[r] IS [3]\n",
      " [4/3] VOCAB2[i] IS [4]\n"
     ]
    }
   ],
   "source": [
    "save_name = os.path.join(save_dir, 'chars_vocab.pkl')\n",
    "with open(save_name, 'wb') as fsave:\n",
    "    cPickle.dump((chars, vocab), fsave)\n",
    "    print (\"CHARS AND VOCAB ARE SAVED TO [%s]\" % (save_name))\n",
    "\n",
    "# LOAD \n",
    "load_name = os.path.join(save_dir, 'chars_vocab.pkl')\n",
    "with open(load_name, 'rb') as fload:\n",
    "    chars2, vocab2 = cPickle.load(fload)\n",
    "    print (\"CHARS AND VOCAB ARE LOADED FROM [%s]\" % (load_name))\n",
    "# CHARS: NUMBER -> CHAR\n",
    "print (\"==========CHARS2==========\")\n",
    "for i in range(5):\n",
    "    print (\" [%d/%d]\" % (i, 3)), # COMMA STOPS LINE CHANGE\n",
    "    print (\"CHARS2[%d] IS [%s]\" % (i, chars2[i]))\n",
    "# VOCAB: CHAR -> NUMBER\n",
    "print (\"==========VOCAB2==========\")\n",
    "for i in range(5):\n",
    "    print (\" [%d/%d]\" % (i, 3)), # <= This comma remove '\\n'\n",
    "    print (\"VOCAB2[%s] IS [%s]\" % (chars2[i], vocab2[chars2[i]]))"
   ]
  },
  {
   "cell_type": "markdown",
   "metadata": {},
   "source": [
    "# DATA => CORPUS"
   ]
  },
  {
   "cell_type": "code",
   "execution_count": 60,
   "metadata": {
    "collapsed": false
   },
   "outputs": [
    {
     "name": "stdout",
     "output_type": "stream",
     "text": [
      "TYPE OF 'DATA' IS [<type 'str'>] AND LENGTH IS [1708871]\n",
      "TYPE OF 'CORPUS' IS [<type 'numpy.ndarray'>] AND LENGTH IS [1708871]\n",
      "============DATA LOOKS LIKE============\n",
      "/*\n",
      " *  linux/kernel/acct.c\n",
      " *\n",
      " *  BSD Process Acco\n",
      "============CORPUS LOOKS LIKE============\n",
      "[36 22  7  0 22  0  0 13  4  8 14 40 36 24  1  3  8  1 13 36  9 12 12  2 35\n",
      " 12  7  0 22  7  0 22  0  0 64 42 56  0 50  3 11 12  1  5  5  0 48 12 12 11]\n"
     ]
    }
   ],
   "source": [
    "corpus = np.array(list(map(vocab.get, data)))\n",
    "print (\"TYPE OF 'DATA' IS [%s] AND LENGTH IS [%d]\" %(type(data), len(data)))\n",
    "print (\"TYPE OF 'CORPUS' IS [%s] AND LENGTH IS [%d]\" %(type(corpus), len(data)))\n",
    "\n",
    "print (\"============DATA LOOKS LIKE============\")\n",
    "print (data[:50])\n",
    "print (\"============CORPUS LOOKS LIKE============\")\n",
    "print (corpus[:50])"
   ]
  },
  {
   "cell_type": "markdown",
   "metadata": {},
   "source": [
    "# SAVE"
   ]
  },
  {
   "cell_type": "code",
   "execution_count": 61,
   "metadata": {
    "collapsed": false
   },
   "outputs": [
    {
     "name": "stdout",
     "output_type": "stream",
     "text": [
      "CORPUS AND DATA ARE SAVED TO [data/linux_kernel/corpus_data.pkl]\n"
     ]
    }
   ],
   "source": [
    "save_name = os.path.join(save_dir, 'corpus_data.pkl')\n",
    "with open(save_name, 'wb') as fsave:\n",
    "    cPickle.dump((corpus, data), fsave)\n",
    "    print (\"CORPUS AND DATA ARE SAVED TO [%s]\" % (save_name)) "
   ]
  }
 ],
 "metadata": {
  "kernelspec": {
   "display_name": "Python 2",
   "language": "python",
   "name": "python2"
  },
  "language_info": {
   "codemirror_mode": {
    "name": "ipython",
    "version": 2
   },
   "file_extension": ".py",
   "mimetype": "text/x-python",
   "name": "python",
   "nbconvert_exporter": "python",
   "pygments_lexer": "ipython2",
   "version": "2.7.6"
  }
 },
 "nbformat": 4,
 "nbformat_minor": 1
}
