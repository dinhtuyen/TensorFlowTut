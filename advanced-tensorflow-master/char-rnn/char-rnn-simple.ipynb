{
 "cells": [
  {
   "cell_type": "markdown",
   "metadata": {},
   "source": [
    "## SIMPLE CHAR-RNN "
   ]
  },
  {
   "cell_type": "code",
   "execution_count": 1,
   "metadata": {
    "collapsed": false
   },
   "outputs": [
    {
     "name": "stdout",
     "output_type": "stream",
     "text": [
      "TENSORFLOW VERSION IS 1.0.1\n"
     ]
    }
   ],
   "source": [
    "from __future__ import print_function\n",
    "import tensorflow as tf\n",
    "import numpy as np\n",
    "from tensorflow.contrib import rnn\n",
    "tf.set_random_seed(0)  \n",
    "print (\"TENSORFLOW VERSION IS %s\" % (tf.__version__))"
   ]
  },
  {
   "cell_type": "markdown",
   "metadata": {},
   "source": [
    "## DEFINE TRAINING SEQUENCE"
   ]
  },
  {
   "cell_type": "code",
   "execution_count": 2,
   "metadata": {
    "collapsed": false
   },
   "outputs": [
    {
     "name": "stdout",
     "output_type": "stream",
     "text": [
      "FOLLOWING IS OUR TRAINING SEQUENCE:\n",
      "if you want to build a ship, don't drum up people together to collect wood and don't assign them tasks and work, but rather teach them to long for the endless immensity of the sea.\n"
     ]
    }
   ],
   "source": [
    "sentence = (\"if you want to build a ship, don't drum up people together to \"\n",
    "            \"collect wood and don't assign them tasks and work, but rather \"\n",
    "            \"teach them to long for the endless immensity of the sea.\")\n",
    "print (\"FOLLOWING IS OUR TRAINING SEQUENCE:\")\n",
    "print (sentence)"
   ]
  },
  {
   "cell_type": "markdown",
   "metadata": {},
   "source": [
    "## DEFINE VOCABULARY AND DICTIONARY"
   ]
  },
  {
   "cell_type": "code",
   "execution_count": 3,
   "metadata": {
    "collapsed": false
   },
   "outputs": [
    {
     "name": "stdout",
     "output_type": "stream",
     "text": [
      "VOCABULARY: \n",
      "[' ', \"'\", ',', '.', 'a', 'c', 'b', 'e', 'd', 'g', 'f', 'i', 'h', 'k', 'm', 'l', 'o', 'n', 'p', 's', 'r', 'u', 't', 'w', 'y']\n",
      "DICTIONARY: \n",
      "{' ': 0, \"'\": 1, ',': 2, '.': 3, 'a': 4, 'c': 5, 'b': 6, 'e': 7, 'd': 8, 'g': 9, 'f': 10, 'i': 11, 'h': 12, 'k': 13, 'm': 14, 'l': 15, 'o': 16, 'n': 17, 'p': 18, 's': 19, 'r': 20, 'u': 21, 't': 22, 'w': 23, 'y': 24}\n"
     ]
    }
   ],
   "source": [
    "char_set = list(set(sentence))\n",
    "char_dic = {w: i for i, w in enumerate(char_set)}\n",
    "print (\"VOCABULARY: \")\n",
    "print (char_set)\n",
    "print (\"DICTIONARY: \")\n",
    "print (char_dic)"
   ]
  },
  {
   "cell_type": "markdown",
   "metadata": {},
   "source": [
    "## CONFIGURE NETWORK"
   ]
  },
  {
   "cell_type": "code",
   "execution_count": 4,
   "metadata": {
    "collapsed": true
   },
   "outputs": [],
   "source": [
    "data_dim    = len(char_set)\n",
    "num_classes = len(char_set)\n",
    "hidden_size     = 64\n",
    "sequence_length = 10  # Any arbitrary number"
   ]
  },
  {
   "cell_type": "markdown",
   "metadata": {},
   "source": [
    "## SET TRAINING BATCHES"
   ]
  },
  {
   "cell_type": "code",
   "execution_count": 5,
   "metadata": {
    "collapsed": false
   },
   "outputs": [
    {
     "name": "stdout",
     "output_type": "stream",
     "text": [
      "[  0/180] [if you wan]=>[f you want]\n",
      "          [11, 10, 0, 24, 16, 21, 0, 23, 4, 17]=>[10, 0, 24, 16, 21, 0, 23, 4, 17, 22]\n",
      "[  1/180] [f you want]=>[ you want ]\n",
      "          [10, 0, 24, 16, 21, 0, 23, 4, 17, 22]=>[0, 24, 16, 21, 0, 23, 4, 17, 22, 0]\n",
      "[  2/180] [ you want ]=>[you want t]\n",
      "          [0, 24, 16, 21, 0, 23, 4, 17, 22, 0]=>[24, 16, 21, 0, 23, 4, 17, 22, 0, 22]\n",
      "[  3/180] [you want t]=>[ou want to]\n",
      "          [24, 16, 21, 0, 23, 4, 17, 22, 0, 22]=>[16, 21, 0, 23, 4, 17, 22, 0, 22, 16]\n",
      "[  4/180] [ou want to]=>[u want to ]\n",
      "          [16, 21, 0, 23, 4, 17, 22, 0, 22, 16]=>[21, 0, 23, 4, 17, 22, 0, 22, 16, 0]\n",
      "[  5/180] [u want to ]=>[ want to b]\n",
      "          [21, 0, 23, 4, 17, 22, 0, 22, 16, 0]=>[0, 23, 4, 17, 22, 0, 22, 16, 0, 6]\n",
      "[  6/180] [ want to b]=>[want to bu]\n",
      "          [0, 23, 4, 17, 22, 0, 22, 16, 0, 6]=>[23, 4, 17, 22, 0, 22, 16, 0, 6, 21]\n",
      "[  7/180] [want to bu]=>[ant to bui]\n",
      "          [23, 4, 17, 22, 0, 22, 16, 0, 6, 21]=>[4, 17, 22, 0, 22, 16, 0, 6, 21, 11]\n",
      "[  8/180] [ant to bui]=>[nt to buil]\n",
      "          [4, 17, 22, 0, 22, 16, 0, 6, 21, 11]=>[17, 22, 0, 22, 16, 0, 6, 21, 11, 15]\n",
      "[  9/180] [nt to buil]=>[t to build]\n",
      "          [17, 22, 0, 22, 16, 0, 6, 21, 11, 15]=>[22, 0, 22, 16, 0, 6, 21, 11, 15, 8]\n",
      "[ 10/180] [t to build]=>[ to build ]\n",
      "          [22, 0, 22, 16, 0, 6, 21, 11, 15, 8]=>[0, 22, 16, 0, 6, 21, 11, 15, 8, 0]\n",
      "[ 11/180] [ to build ]=>[to build a]\n",
      "          [0, 22, 16, 0, 6, 21, 11, 15, 8, 0]=>[22, 16, 0, 6, 21, 11, 15, 8, 0, 4]\n",
      "[ 12/180] [to build a]=>[o build a ]\n",
      "          [22, 16, 0, 6, 21, 11, 15, 8, 0, 4]=>[16, 0, 6, 21, 11, 15, 8, 0, 4, 0]\n",
      "[ 13/180] [o build a ]=>[ build a s]\n",
      "          [16, 0, 6, 21, 11, 15, 8, 0, 4, 0]=>[0, 6, 21, 11, 15, 8, 0, 4, 0, 19]\n",
      "[ 14/180] [ build a s]=>[build a sh]\n",
      "          [0, 6, 21, 11, 15, 8, 0, 4, 0, 19]=>[6, 21, 11, 15, 8, 0, 4, 0, 19, 12]\n",
      "[ 15/180] [build a sh]=>[uild a shi]\n",
      "          [6, 21, 11, 15, 8, 0, 4, 0, 19, 12]=>[21, 11, 15, 8, 0, 4, 0, 19, 12, 11]\n",
      "[ 16/180] [uild a shi]=>[ild a ship]\n",
      "          [21, 11, 15, 8, 0, 4, 0, 19, 12, 11]=>[11, 15, 8, 0, 4, 0, 19, 12, 11, 18]\n",
      "[ 17/180] [ild a ship]=>[ld a ship,]\n",
      "          [11, 15, 8, 0, 4, 0, 19, 12, 11, 18]=>[15, 8, 0, 4, 0, 19, 12, 11, 18, 2]\n",
      "[ 18/180] [ld a ship,]=>[d a ship, ]\n",
      "          [15, 8, 0, 4, 0, 19, 12, 11, 18, 2]=>[8, 0, 4, 0, 19, 12, 11, 18, 2, 0]\n",
      "[ 19/180] [d a ship, ]=>[ a ship, d]\n",
      "          [8, 0, 4, 0, 19, 12, 11, 18, 2, 0]=>[0, 4, 0, 19, 12, 11, 18, 2, 0, 8]\n",
      "[ 20/180] [ a ship, d]=>[a ship, do]\n",
      "          [0, 4, 0, 19, 12, 11, 18, 2, 0, 8]=>[4, 0, 19, 12, 11, 18, 2, 0, 8, 16]\n",
      "[ 21/180] [a ship, do]=>[ ship, don]\n",
      "          [4, 0, 19, 12, 11, 18, 2, 0, 8, 16]=>[0, 19, 12, 11, 18, 2, 0, 8, 16, 17]\n",
      "[ 22/180] [ ship, don]=>[ship, don']\n",
      "          [0, 19, 12, 11, 18, 2, 0, 8, 16, 17]=>[19, 12, 11, 18, 2, 0, 8, 16, 17, 1]\n",
      "[ 23/180] [ship, don']=>[hip, don't]\n",
      "          [19, 12, 11, 18, 2, 0, 8, 16, 17, 1]=>[12, 11, 18, 2, 0, 8, 16, 17, 1, 22]\n",
      "[ 24/180] [hip, don't]=>[ip, don't ]\n",
      "          [12, 11, 18, 2, 0, 8, 16, 17, 1, 22]=>[11, 18, 2, 0, 8, 16, 17, 1, 22, 0]\n",
      "[ 25/180] [ip, don't ]=>[p, don't d]\n",
      "          [11, 18, 2, 0, 8, 16, 17, 1, 22, 0]=>[18, 2, 0, 8, 16, 17, 1, 22, 0, 8]\n",
      "[ 26/180] [p, don't d]=>[, don't dr]\n",
      "          [18, 2, 0, 8, 16, 17, 1, 22, 0, 8]=>[2, 0, 8, 16, 17, 1, 22, 0, 8, 20]\n",
      "[ 27/180] [, don't dr]=>[ don't dru]\n",
      "          [2, 0, 8, 16, 17, 1, 22, 0, 8, 20]=>[0, 8, 16, 17, 1, 22, 0, 8, 20, 21]\n",
      "[ 28/180] [ don't dru]=>[don't drum]\n",
      "          [0, 8, 16, 17, 1, 22, 0, 8, 20, 21]=>[8, 16, 17, 1, 22, 0, 8, 20, 21, 14]\n",
      "[ 29/180] [don't drum]=>[on't drum ]\n",
      "          [8, 16, 17, 1, 22, 0, 8, 20, 21, 14]=>[16, 17, 1, 22, 0, 8, 20, 21, 14, 0]\n",
      "[ 30/180] [on't drum ]=>[n't drum u]\n",
      "          [16, 17, 1, 22, 0, 8, 20, 21, 14, 0]=>[17, 1, 22, 0, 8, 20, 21, 14, 0, 21]\n",
      "[ 31/180] [n't drum u]=>['t drum up]\n",
      "          [17, 1, 22, 0, 8, 20, 21, 14, 0, 21]=>[1, 22, 0, 8, 20, 21, 14, 0, 21, 18]\n",
      "[ 32/180] ['t drum up]=>[t drum up ]\n",
      "          [1, 22, 0, 8, 20, 21, 14, 0, 21, 18]=>[22, 0, 8, 20, 21, 14, 0, 21, 18, 0]\n",
      "[ 33/180] [t drum up ]=>[ drum up p]\n",
      "          [22, 0, 8, 20, 21, 14, 0, 21, 18, 0]=>[0, 8, 20, 21, 14, 0, 21, 18, 0, 18]\n",
      "[ 34/180] [ drum up p]=>[drum up pe]\n",
      "          [0, 8, 20, 21, 14, 0, 21, 18, 0, 18]=>[8, 20, 21, 14, 0, 21, 18, 0, 18, 7]\n",
      "[ 35/180] [drum up pe]=>[rum up peo]\n",
      "          [8, 20, 21, 14, 0, 21, 18, 0, 18, 7]=>[20, 21, 14, 0, 21, 18, 0, 18, 7, 16]\n",
      "[ 36/180] [rum up peo]=>[um up peop]\n",
      "          [20, 21, 14, 0, 21, 18, 0, 18, 7, 16]=>[21, 14, 0, 21, 18, 0, 18, 7, 16, 18]\n",
      "[ 37/180] [um up peop]=>[m up peopl]\n",
      "          [21, 14, 0, 21, 18, 0, 18, 7, 16, 18]=>[14, 0, 21, 18, 0, 18, 7, 16, 18, 15]\n",
      "[ 38/180] [m up peopl]=>[ up people]\n",
      "          [14, 0, 21, 18, 0, 18, 7, 16, 18, 15]=>[0, 21, 18, 0, 18, 7, 16, 18, 15, 7]\n",
      "[ 39/180] [ up people]=>[up people ]\n",
      "          [0, 21, 18, 0, 18, 7, 16, 18, 15, 7]=>[21, 18, 0, 18, 7, 16, 18, 15, 7, 0]\n",
      "[ 40/180] [up people ]=>[p people t]\n",
      "          [21, 18, 0, 18, 7, 16, 18, 15, 7, 0]=>[18, 0, 18, 7, 16, 18, 15, 7, 0, 22]\n",
      "[ 41/180] [p people t]=>[ people to]\n",
      "          [18, 0, 18, 7, 16, 18, 15, 7, 0, 22]=>[0, 18, 7, 16, 18, 15, 7, 0, 22, 16]\n",
      "[ 42/180] [ people to]=>[people tog]\n",
      "          [0, 18, 7, 16, 18, 15, 7, 0, 22, 16]=>[18, 7, 16, 18, 15, 7, 0, 22, 16, 9]\n",
      "[ 43/180] [people tog]=>[eople toge]\n",
      "          [18, 7, 16, 18, 15, 7, 0, 22, 16, 9]=>[7, 16, 18, 15, 7, 0, 22, 16, 9, 7]\n",
      "[ 44/180] [eople toge]=>[ople toget]\n",
      "          [7, 16, 18, 15, 7, 0, 22, 16, 9, 7]=>[16, 18, 15, 7, 0, 22, 16, 9, 7, 22]\n",
      "[ 45/180] [ople toget]=>[ple togeth]\n",
      "          [16, 18, 15, 7, 0, 22, 16, 9, 7, 22]=>[18, 15, 7, 0, 22, 16, 9, 7, 22, 12]\n",
      "[ 46/180] [ple togeth]=>[le togethe]\n",
      "          [18, 15, 7, 0, 22, 16, 9, 7, 22, 12]=>[15, 7, 0, 22, 16, 9, 7, 22, 12, 7]\n",
      "[ 47/180] [le togethe]=>[e together]\n",
      "          [15, 7, 0, 22, 16, 9, 7, 22, 12, 7]=>[7, 0, 22, 16, 9, 7, 22, 12, 7, 20]\n",
      "[ 48/180] [e together]=>[ together ]\n",
      "          [7, 0, 22, 16, 9, 7, 22, 12, 7, 20]=>[0, 22, 16, 9, 7, 22, 12, 7, 20, 0]\n",
      "[ 49/180] [ together ]=>[together t]\n",
      "          [0, 22, 16, 9, 7, 22, 12, 7, 20, 0]=>[22, 16, 9, 7, 22, 12, 7, 20, 0, 22]\n",
      "[ 50/180] [together t]=>[ogether to]\n",
      "          [22, 16, 9, 7, 22, 12, 7, 20, 0, 22]=>[16, 9, 7, 22, 12, 7, 20, 0, 22, 16]\n",
      "[ 51/180] [ogether to]=>[gether to ]\n",
      "          [16, 9, 7, 22, 12, 7, 20, 0, 22, 16]=>[9, 7, 22, 12, 7, 20, 0, 22, 16, 0]\n",
      "[ 52/180] [gether to ]=>[ether to c]\n",
      "          [9, 7, 22, 12, 7, 20, 0, 22, 16, 0]=>[7, 22, 12, 7, 20, 0, 22, 16, 0, 5]\n",
      "[ 53/180] [ether to c]=>[ther to co]\n",
      "          [7, 22, 12, 7, 20, 0, 22, 16, 0, 5]=>[22, 12, 7, 20, 0, 22, 16, 0, 5, 16]\n",
      "[ 54/180] [ther to co]=>[her to col]\n",
      "          [22, 12, 7, 20, 0, 22, 16, 0, 5, 16]=>[12, 7, 20, 0, 22, 16, 0, 5, 16, 15]\n",
      "[ 55/180] [her to col]=>[er to coll]\n",
      "          [12, 7, 20, 0, 22, 16, 0, 5, 16, 15]=>[7, 20, 0, 22, 16, 0, 5, 16, 15, 15]\n",
      "[ 56/180] [er to coll]=>[r to colle]\n",
      "          [7, 20, 0, 22, 16, 0, 5, 16, 15, 15]=>[20, 0, 22, 16, 0, 5, 16, 15, 15, 7]\n",
      "[ 57/180] [r to colle]=>[ to collec]\n",
      "          [20, 0, 22, 16, 0, 5, 16, 15, 15, 7]=>[0, 22, 16, 0, 5, 16, 15, 15, 7, 5]\n",
      "[ 58/180] [ to collec]=>[to collect]\n",
      "          [0, 22, 16, 0, 5, 16, 15, 15, 7, 5]=>[22, 16, 0, 5, 16, 15, 15, 7, 5, 22]\n",
      "[ 59/180] [to collect]=>[o collect ]\n",
      "          [22, 16, 0, 5, 16, 15, 15, 7, 5, 22]=>[16, 0, 5, 16, 15, 15, 7, 5, 22, 0]\n",
      "[ 60/180] [o collect ]=>[ collect w]\n",
      "          [16, 0, 5, 16, 15, 15, 7, 5, 22, 0]=>[0, 5, 16, 15, 15, 7, 5, 22, 0, 23]\n",
      "[ 61/180] [ collect w]=>[collect wo]\n",
      "          [0, 5, 16, 15, 15, 7, 5, 22, 0, 23]=>[5, 16, 15, 15, 7, 5, 22, 0, 23, 16]\n",
      "[ 62/180] [collect wo]=>[ollect woo]\n",
      "          [5, 16, 15, 15, 7, 5, 22, 0, 23, 16]=>[16, 15, 15, 7, 5, 22, 0, 23, 16, 16]\n",
      "[ 63/180] [ollect woo]=>[llect wood]\n",
      "          [16, 15, 15, 7, 5, 22, 0, 23, 16, 16]=>[15, 15, 7, 5, 22, 0, 23, 16, 16, 8]\n",
      "[ 64/180] [llect wood]=>[lect wood ]\n",
      "          [15, 15, 7, 5, 22, 0, 23, 16, 16, 8]=>[15, 7, 5, 22, 0, 23, 16, 16, 8, 0]\n",
      "[ 65/180] [lect wood ]=>[ect wood a]\n",
      "          [15, 7, 5, 22, 0, 23, 16, 16, 8, 0]=>[7, 5, 22, 0, 23, 16, 16, 8, 0, 4]\n",
      "[ 66/180] [ect wood a]=>[ct wood an]\n",
      "          [7, 5, 22, 0, 23, 16, 16, 8, 0, 4]=>[5, 22, 0, 23, 16, 16, 8, 0, 4, 17]\n",
      "[ 67/180] [ct wood an]=>[t wood and]\n",
      "          [5, 22, 0, 23, 16, 16, 8, 0, 4, 17]=>[22, 0, 23, 16, 16, 8, 0, 4, 17, 8]\n",
      "[ 68/180] [t wood and]=>[ wood and ]\n",
      "          [22, 0, 23, 16, 16, 8, 0, 4, 17, 8]=>[0, 23, 16, 16, 8, 0, 4, 17, 8, 0]\n",
      "[ 69/180] [ wood and ]=>[wood and d]\n",
      "          [0, 23, 16, 16, 8, 0, 4, 17, 8, 0]=>[23, 16, 16, 8, 0, 4, 17, 8, 0, 8]\n",
      "[ 70/180] [wood and d]=>[ood and do]\n",
      "          [23, 16, 16, 8, 0, 4, 17, 8, 0, 8]=>[16, 16, 8, 0, 4, 17, 8, 0, 8, 16]\n",
      "[ 71/180] [ood and do]=>[od and don]\n",
      "          [16, 16, 8, 0, 4, 17, 8, 0, 8, 16]=>[16, 8, 0, 4, 17, 8, 0, 8, 16, 17]\n",
      "[ 72/180] [od and don]=>[d and don']\n",
      "          [16, 8, 0, 4, 17, 8, 0, 8, 16, 17]=>[8, 0, 4, 17, 8, 0, 8, 16, 17, 1]\n",
      "[ 73/180] [d and don']=>[ and don't]\n",
      "          [8, 0, 4, 17, 8, 0, 8, 16, 17, 1]=>[0, 4, 17, 8, 0, 8, 16, 17, 1, 22]\n",
      "[ 74/180] [ and don't]=>[and don't ]\n",
      "          [0, 4, 17, 8, 0, 8, 16, 17, 1, 22]=>[4, 17, 8, 0, 8, 16, 17, 1, 22, 0]\n",
      "[ 75/180] [and don't ]=>[nd don't a]\n",
      "          [4, 17, 8, 0, 8, 16, 17, 1, 22, 0]=>[17, 8, 0, 8, 16, 17, 1, 22, 0, 4]\n",
      "[ 76/180] [nd don't a]=>[d don't as]\n",
      "          [17, 8, 0, 8, 16, 17, 1, 22, 0, 4]=>[8, 0, 8, 16, 17, 1, 22, 0, 4, 19]\n",
      "[ 77/180] [d don't as]=>[ don't ass]\n",
      "          [8, 0, 8, 16, 17, 1, 22, 0, 4, 19]=>[0, 8, 16, 17, 1, 22, 0, 4, 19, 19]\n",
      "[ 78/180] [ don't ass]=>[don't assi]\n",
      "          [0, 8, 16, 17, 1, 22, 0, 4, 19, 19]=>[8, 16, 17, 1, 22, 0, 4, 19, 19, 11]\n",
      "[ 79/180] [don't assi]=>[on't assig]\n",
      "          [8, 16, 17, 1, 22, 0, 4, 19, 19, 11]=>[16, 17, 1, 22, 0, 4, 19, 19, 11, 9]\n",
      "[ 80/180] [on't assig]=>[n't assign]\n",
      "          [16, 17, 1, 22, 0, 4, 19, 19, 11, 9]=>[17, 1, 22, 0, 4, 19, 19, 11, 9, 17]\n",
      "[ 81/180] [n't assign]=>['t assign ]\n",
      "          [17, 1, 22, 0, 4, 19, 19, 11, 9, 17]=>[1, 22, 0, 4, 19, 19, 11, 9, 17, 0]\n",
      "[ 82/180] ['t assign ]=>[t assign t]\n",
      "          [1, 22, 0, 4, 19, 19, 11, 9, 17, 0]=>[22, 0, 4, 19, 19, 11, 9, 17, 0, 22]\n",
      "[ 83/180] [t assign t]=>[ assign th]\n",
      "          [22, 0, 4, 19, 19, 11, 9, 17, 0, 22]=>[0, 4, 19, 19, 11, 9, 17, 0, 22, 12]\n",
      "[ 84/180] [ assign th]=>[assign the]\n",
      "          [0, 4, 19, 19, 11, 9, 17, 0, 22, 12]=>[4, 19, 19, 11, 9, 17, 0, 22, 12, 7]\n",
      "[ 85/180] [assign the]=>[ssign them]\n",
      "          [4, 19, 19, 11, 9, 17, 0, 22, 12, 7]=>[19, 19, 11, 9, 17, 0, 22, 12, 7, 14]\n",
      "[ 86/180] [ssign them]=>[sign them ]\n",
      "          [19, 19, 11, 9, 17, 0, 22, 12, 7, 14]=>[19, 11, 9, 17, 0, 22, 12, 7, 14, 0]\n",
      "[ 87/180] [sign them ]=>[ign them t]\n",
      "          [19, 11, 9, 17, 0, 22, 12, 7, 14, 0]=>[11, 9, 17, 0, 22, 12, 7, 14, 0, 22]\n",
      "[ 88/180] [ign them t]=>[gn them ta]\n",
      "          [11, 9, 17, 0, 22, 12, 7, 14, 0, 22]=>[9, 17, 0, 22, 12, 7, 14, 0, 22, 4]\n",
      "[ 89/180] [gn them ta]=>[n them tas]\n",
      "          [9, 17, 0, 22, 12, 7, 14, 0, 22, 4]=>[17, 0, 22, 12, 7, 14, 0, 22, 4, 19]\n",
      "[ 90/180] [n them tas]=>[ them task]\n",
      "          [17, 0, 22, 12, 7, 14, 0, 22, 4, 19]=>[0, 22, 12, 7, 14, 0, 22, 4, 19, 13]\n",
      "[ 91/180] [ them task]=>[them tasks]\n",
      "          [0, 22, 12, 7, 14, 0, 22, 4, 19, 13]=>[22, 12, 7, 14, 0, 22, 4, 19, 13, 19]\n",
      "[ 92/180] [them tasks]=>[hem tasks ]\n",
      "          [22, 12, 7, 14, 0, 22, 4, 19, 13, 19]=>[12, 7, 14, 0, 22, 4, 19, 13, 19, 0]\n",
      "[ 93/180] [hem tasks ]=>[em tasks a]\n",
      "          [12, 7, 14, 0, 22, 4, 19, 13, 19, 0]=>[7, 14, 0, 22, 4, 19, 13, 19, 0, 4]\n",
      "[ 94/180] [em tasks a]=>[m tasks an]\n",
      "          [7, 14, 0, 22, 4, 19, 13, 19, 0, 4]=>[14, 0, 22, 4, 19, 13, 19, 0, 4, 17]\n",
      "[ 95/180] [m tasks an]=>[ tasks and]\n",
      "          [14, 0, 22, 4, 19, 13, 19, 0, 4, 17]=>[0, 22, 4, 19, 13, 19, 0, 4, 17, 8]\n",
      "[ 96/180] [ tasks and]=>[tasks and ]\n",
      "          [0, 22, 4, 19, 13, 19, 0, 4, 17, 8]=>[22, 4, 19, 13, 19, 0, 4, 17, 8, 0]\n",
      "[ 97/180] [tasks and ]=>[asks and w]\n",
      "          [22, 4, 19, 13, 19, 0, 4, 17, 8, 0]=>[4, 19, 13, 19, 0, 4, 17, 8, 0, 23]\n",
      "[ 98/180] [asks and w]=>[sks and wo]\n",
      "          [4, 19, 13, 19, 0, 4, 17, 8, 0, 23]=>[19, 13, 19, 0, 4, 17, 8, 0, 23, 16]\n",
      "[ 99/180] [sks and wo]=>[ks and wor]\n",
      "          [19, 13, 19, 0, 4, 17, 8, 0, 23, 16]=>[13, 19, 0, 4, 17, 8, 0, 23, 16, 20]\n",
      "[100/180] [ks and wor]=>[s and work]\n",
      "          [13, 19, 0, 4, 17, 8, 0, 23, 16, 20]=>[19, 0, 4, 17, 8, 0, 23, 16, 20, 13]\n",
      "[101/180] [s and work]=>[ and work,]\n",
      "          [19, 0, 4, 17, 8, 0, 23, 16, 20, 13]=>[0, 4, 17, 8, 0, 23, 16, 20, 13, 2]\n",
      "[102/180] [ and work,]=>[and work, ]\n",
      "          [0, 4, 17, 8, 0, 23, 16, 20, 13, 2]=>[4, 17, 8, 0, 23, 16, 20, 13, 2, 0]\n",
      "[103/180] [and work, ]=>[nd work, b]\n",
      "          [4, 17, 8, 0, 23, 16, 20, 13, 2, 0]=>[17, 8, 0, 23, 16, 20, 13, 2, 0, 6]\n",
      "[104/180] [nd work, b]=>[d work, bu]\n",
      "          [17, 8, 0, 23, 16, 20, 13, 2, 0, 6]=>[8, 0, 23, 16, 20, 13, 2, 0, 6, 21]\n",
      "[105/180] [d work, bu]=>[ work, but]\n",
      "          [8, 0, 23, 16, 20, 13, 2, 0, 6, 21]=>[0, 23, 16, 20, 13, 2, 0, 6, 21, 22]\n",
      "[106/180] [ work, but]=>[work, but ]\n",
      "          [0, 23, 16, 20, 13, 2, 0, 6, 21, 22]=>[23, 16, 20, 13, 2, 0, 6, 21, 22, 0]\n",
      "[107/180] [work, but ]=>[ork, but r]\n",
      "          [23, 16, 20, 13, 2, 0, 6, 21, 22, 0]=>[16, 20, 13, 2, 0, 6, 21, 22, 0, 20]\n",
      "[108/180] [ork, but r]=>[rk, but ra]\n",
      "          [16, 20, 13, 2, 0, 6, 21, 22, 0, 20]=>[20, 13, 2, 0, 6, 21, 22, 0, 20, 4]\n",
      "[109/180] [rk, but ra]=>[k, but rat]\n",
      "          [20, 13, 2, 0, 6, 21, 22, 0, 20, 4]=>[13, 2, 0, 6, 21, 22, 0, 20, 4, 22]\n",
      "[110/180] [k, but rat]=>[, but rath]\n",
      "          [13, 2, 0, 6, 21, 22, 0, 20, 4, 22]=>[2, 0, 6, 21, 22, 0, 20, 4, 22, 12]\n",
      "[111/180] [, but rath]=>[ but rathe]\n",
      "          [2, 0, 6, 21, 22, 0, 20, 4, 22, 12]=>[0, 6, 21, 22, 0, 20, 4, 22, 12, 7]\n",
      "[112/180] [ but rathe]=>[but rather]\n",
      "          [0, 6, 21, 22, 0, 20, 4, 22, 12, 7]=>[6, 21, 22, 0, 20, 4, 22, 12, 7, 20]\n",
      "[113/180] [but rather]=>[ut rather ]\n",
      "          [6, 21, 22, 0, 20, 4, 22, 12, 7, 20]=>[21, 22, 0, 20, 4, 22, 12, 7, 20, 0]\n",
      "[114/180] [ut rather ]=>[t rather t]\n",
      "          [21, 22, 0, 20, 4, 22, 12, 7, 20, 0]=>[22, 0, 20, 4, 22, 12, 7, 20, 0, 22]\n",
      "[115/180] [t rather t]=>[ rather te]\n",
      "          [22, 0, 20, 4, 22, 12, 7, 20, 0, 22]=>[0, 20, 4, 22, 12, 7, 20, 0, 22, 7]\n",
      "[116/180] [ rather te]=>[rather tea]\n",
      "          [0, 20, 4, 22, 12, 7, 20, 0, 22, 7]=>[20, 4, 22, 12, 7, 20, 0, 22, 7, 4]\n",
      "[117/180] [rather tea]=>[ather teac]\n",
      "          [20, 4, 22, 12, 7, 20, 0, 22, 7, 4]=>[4, 22, 12, 7, 20, 0, 22, 7, 4, 5]\n",
      "[118/180] [ather teac]=>[ther teach]\n",
      "          [4, 22, 12, 7, 20, 0, 22, 7, 4, 5]=>[22, 12, 7, 20, 0, 22, 7, 4, 5, 12]\n",
      "[119/180] [ther teach]=>[her teach ]\n",
      "          [22, 12, 7, 20, 0, 22, 7, 4, 5, 12]=>[12, 7, 20, 0, 22, 7, 4, 5, 12, 0]\n",
      "[120/180] [her teach ]=>[er teach t]\n",
      "          [12, 7, 20, 0, 22, 7, 4, 5, 12, 0]=>[7, 20, 0, 22, 7, 4, 5, 12, 0, 22]\n",
      "[121/180] [er teach t]=>[r teach th]\n",
      "          [7, 20, 0, 22, 7, 4, 5, 12, 0, 22]=>[20, 0, 22, 7, 4, 5, 12, 0, 22, 12]\n",
      "[122/180] [r teach th]=>[ teach the]\n",
      "          [20, 0, 22, 7, 4, 5, 12, 0, 22, 12]=>[0, 22, 7, 4, 5, 12, 0, 22, 12, 7]\n",
      "[123/180] [ teach the]=>[teach them]\n",
      "          [0, 22, 7, 4, 5, 12, 0, 22, 12, 7]=>[22, 7, 4, 5, 12, 0, 22, 12, 7, 14]\n",
      "[124/180] [teach them]=>[each them ]\n",
      "          [22, 7, 4, 5, 12, 0, 22, 12, 7, 14]=>[7, 4, 5, 12, 0, 22, 12, 7, 14, 0]\n",
      "[125/180] [each them ]=>[ach them t]\n",
      "          [7, 4, 5, 12, 0, 22, 12, 7, 14, 0]=>[4, 5, 12, 0, 22, 12, 7, 14, 0, 22]\n",
      "[126/180] [ach them t]=>[ch them to]\n",
      "          [4, 5, 12, 0, 22, 12, 7, 14, 0, 22]=>[5, 12, 0, 22, 12, 7, 14, 0, 22, 16]\n",
      "[127/180] [ch them to]=>[h them to ]\n",
      "          [5, 12, 0, 22, 12, 7, 14, 0, 22, 16]=>[12, 0, 22, 12, 7, 14, 0, 22, 16, 0]\n",
      "[128/180] [h them to ]=>[ them to l]\n",
      "          [12, 0, 22, 12, 7, 14, 0, 22, 16, 0]=>[0, 22, 12, 7, 14, 0, 22, 16, 0, 15]\n",
      "[129/180] [ them to l]=>[them to lo]\n",
      "          [0, 22, 12, 7, 14, 0, 22, 16, 0, 15]=>[22, 12, 7, 14, 0, 22, 16, 0, 15, 16]\n",
      "[130/180] [them to lo]=>[hem to lon]\n",
      "          [22, 12, 7, 14, 0, 22, 16, 0, 15, 16]=>[12, 7, 14, 0, 22, 16, 0, 15, 16, 17]\n",
      "[131/180] [hem to lon]=>[em to long]\n",
      "          [12, 7, 14, 0, 22, 16, 0, 15, 16, 17]=>[7, 14, 0, 22, 16, 0, 15, 16, 17, 9]\n",
      "[132/180] [em to long]=>[m to long ]\n",
      "          [7, 14, 0, 22, 16, 0, 15, 16, 17, 9]=>[14, 0, 22, 16, 0, 15, 16, 17, 9, 0]\n",
      "[133/180] [m to long ]=>[ to long f]\n",
      "          [14, 0, 22, 16, 0, 15, 16, 17, 9, 0]=>[0, 22, 16, 0, 15, 16, 17, 9, 0, 10]\n",
      "[134/180] [ to long f]=>[to long fo]\n",
      "          [0, 22, 16, 0, 15, 16, 17, 9, 0, 10]=>[22, 16, 0, 15, 16, 17, 9, 0, 10, 16]\n",
      "[135/180] [to long fo]=>[o long for]\n",
      "          [22, 16, 0, 15, 16, 17, 9, 0, 10, 16]=>[16, 0, 15, 16, 17, 9, 0, 10, 16, 20]\n",
      "[136/180] [o long for]=>[ long for ]\n",
      "          [16, 0, 15, 16, 17, 9, 0, 10, 16, 20]=>[0, 15, 16, 17, 9, 0, 10, 16, 20, 0]\n",
      "[137/180] [ long for ]=>[long for t]\n",
      "          [0, 15, 16, 17, 9, 0, 10, 16, 20, 0]=>[15, 16, 17, 9, 0, 10, 16, 20, 0, 22]\n",
      "[138/180] [long for t]=>[ong for th]\n",
      "          [15, 16, 17, 9, 0, 10, 16, 20, 0, 22]=>[16, 17, 9, 0, 10, 16, 20, 0, 22, 12]\n",
      "[139/180] [ong for th]=>[ng for the]\n",
      "          [16, 17, 9, 0, 10, 16, 20, 0, 22, 12]=>[17, 9, 0, 10, 16, 20, 0, 22, 12, 7]\n",
      "[140/180] [ng for the]=>[g for the ]\n",
      "          [17, 9, 0, 10, 16, 20, 0, 22, 12, 7]=>[9, 0, 10, 16, 20, 0, 22, 12, 7, 0]\n",
      "[141/180] [g for the ]=>[ for the e]\n",
      "          [9, 0, 10, 16, 20, 0, 22, 12, 7, 0]=>[0, 10, 16, 20, 0, 22, 12, 7, 0, 7]\n",
      "[142/180] [ for the e]=>[for the en]\n",
      "          [0, 10, 16, 20, 0, 22, 12, 7, 0, 7]=>[10, 16, 20, 0, 22, 12, 7, 0, 7, 17]\n",
      "[143/180] [for the en]=>[or the end]\n",
      "          [10, 16, 20, 0, 22, 12, 7, 0, 7, 17]=>[16, 20, 0, 22, 12, 7, 0, 7, 17, 8]\n",
      "[144/180] [or the end]=>[r the endl]\n",
      "          [16, 20, 0, 22, 12, 7, 0, 7, 17, 8]=>[20, 0, 22, 12, 7, 0, 7, 17, 8, 15]\n",
      "[145/180] [r the endl]=>[ the endle]\n",
      "          [20, 0, 22, 12, 7, 0, 7, 17, 8, 15]=>[0, 22, 12, 7, 0, 7, 17, 8, 15, 7]\n",
      "[146/180] [ the endle]=>[the endles]\n",
      "          [0, 22, 12, 7, 0, 7, 17, 8, 15, 7]=>[22, 12, 7, 0, 7, 17, 8, 15, 7, 19]\n",
      "[147/180] [the endles]=>[he endless]\n",
      "          [22, 12, 7, 0, 7, 17, 8, 15, 7, 19]=>[12, 7, 0, 7, 17, 8, 15, 7, 19, 19]\n",
      "[148/180] [he endless]=>[e endless ]\n",
      "          [12, 7, 0, 7, 17, 8, 15, 7, 19, 19]=>[7, 0, 7, 17, 8, 15, 7, 19, 19, 0]\n",
      "[149/180] [e endless ]=>[ endless i]\n",
      "          [7, 0, 7, 17, 8, 15, 7, 19, 19, 0]=>[0, 7, 17, 8, 15, 7, 19, 19, 0, 11]\n",
      "[150/180] [ endless i]=>[endless im]\n",
      "          [0, 7, 17, 8, 15, 7, 19, 19, 0, 11]=>[7, 17, 8, 15, 7, 19, 19, 0, 11, 14]\n",
      "[151/180] [endless im]=>[ndless imm]\n",
      "          [7, 17, 8, 15, 7, 19, 19, 0, 11, 14]=>[17, 8, 15, 7, 19, 19, 0, 11, 14, 14]\n",
      "[152/180] [ndless imm]=>[dless imme]\n",
      "          [17, 8, 15, 7, 19, 19, 0, 11, 14, 14]=>[8, 15, 7, 19, 19, 0, 11, 14, 14, 7]\n",
      "[153/180] [dless imme]=>[less immen]\n",
      "          [8, 15, 7, 19, 19, 0, 11, 14, 14, 7]=>[15, 7, 19, 19, 0, 11, 14, 14, 7, 17]\n",
      "[154/180] [less immen]=>[ess immens]\n",
      "          [15, 7, 19, 19, 0, 11, 14, 14, 7, 17]=>[7, 19, 19, 0, 11, 14, 14, 7, 17, 19]\n",
      "[155/180] [ess immens]=>[ss immensi]\n",
      "          [7, 19, 19, 0, 11, 14, 14, 7, 17, 19]=>[19, 19, 0, 11, 14, 14, 7, 17, 19, 11]\n",
      "[156/180] [ss immensi]=>[s immensit]\n",
      "          [19, 19, 0, 11, 14, 14, 7, 17, 19, 11]=>[19, 0, 11, 14, 14, 7, 17, 19, 11, 22]\n",
      "[157/180] [s immensit]=>[ immensity]\n",
      "          [19, 0, 11, 14, 14, 7, 17, 19, 11, 22]=>[0, 11, 14, 14, 7, 17, 19, 11, 22, 24]\n",
      "[158/180] [ immensity]=>[immensity ]\n",
      "          [0, 11, 14, 14, 7, 17, 19, 11, 22, 24]=>[11, 14, 14, 7, 17, 19, 11, 22, 24, 0]\n",
      "[159/180] [immensity ]=>[mmensity o]\n",
      "          [11, 14, 14, 7, 17, 19, 11, 22, 24, 0]=>[14, 14, 7, 17, 19, 11, 22, 24, 0, 16]\n",
      "[160/180] [mmensity o]=>[mensity of]\n",
      "          [14, 14, 7, 17, 19, 11, 22, 24, 0, 16]=>[14, 7, 17, 19, 11, 22, 24, 0, 16, 10]\n",
      "[161/180] [mensity of]=>[ensity of ]\n",
      "          [14, 7, 17, 19, 11, 22, 24, 0, 16, 10]=>[7, 17, 19, 11, 22, 24, 0, 16, 10, 0]\n",
      "[162/180] [ensity of ]=>[nsity of t]\n",
      "          [7, 17, 19, 11, 22, 24, 0, 16, 10, 0]=>[17, 19, 11, 22, 24, 0, 16, 10, 0, 22]\n",
      "[163/180] [nsity of t]=>[sity of th]\n",
      "          [17, 19, 11, 22, 24, 0, 16, 10, 0, 22]=>[19, 11, 22, 24, 0, 16, 10, 0, 22, 12]\n",
      "[164/180] [sity of th]=>[ity of the]\n",
      "          [19, 11, 22, 24, 0, 16, 10, 0, 22, 12]=>[11, 22, 24, 0, 16, 10, 0, 22, 12, 7]\n",
      "[165/180] [ity of the]=>[ty of the ]\n",
      "          [11, 22, 24, 0, 16, 10, 0, 22, 12, 7]=>[22, 24, 0, 16, 10, 0, 22, 12, 7, 0]\n",
      "[166/180] [ty of the ]=>[y of the s]\n",
      "          [22, 24, 0, 16, 10, 0, 22, 12, 7, 0]=>[24, 0, 16, 10, 0, 22, 12, 7, 0, 19]\n",
      "[167/180] [y of the s]=>[ of the se]\n",
      "          [24, 0, 16, 10, 0, 22, 12, 7, 0, 19]=>[0, 16, 10, 0, 22, 12, 7, 0, 19, 7]\n",
      "[168/180] [ of the se]=>[of the sea]\n",
      "          [0, 16, 10, 0, 22, 12, 7, 0, 19, 7]=>[16, 10, 0, 22, 12, 7, 0, 19, 7, 4]\n",
      "[169/180] [of the sea]=>[f the sea.]\n",
      "          [16, 10, 0, 22, 12, 7, 0, 19, 7, 4]=>[10, 0, 22, 12, 7, 0, 19, 7, 4, 3]\n"
     ]
    }
   ],
   "source": [
    "dataX = []\n",
    "dataY = []\n",
    "for i in range(0, len(sentence) - sequence_length):\n",
    "    x_str = sentence[i:i + sequence_length]\n",
    "    y_str = sentence[i + 1: i + sequence_length + 1]\n",
    "    x = [char_dic[c] for c in x_str]  # x str to index\n",
    "    y = [char_dic[c] for c in y_str]  # y str to index\n",
    "    dataX.append(x)\n",
    "    dataY.append(y)\n",
    "    print (\"[%3d/%3d] [%s]=>[%s]\" % (i, len(sentence), x_str, y_str))\n",
    "    print (\"%s%s=>%s\" % (' '*10, x, y))"
   ]
  },
  {
   "cell_type": "code",
   "execution_count": 6,
   "metadata": {
    "collapsed": false
   },
   "outputs": [
    {
     "name": "stdout",
     "output_type": "stream",
     "text": [
      "     'NDATA' IS 170\n",
      "'BATCH_SIZE' IS 20\n"
     ]
    }
   ],
   "source": [
    "ndata      = len(dataX)\n",
    "batch_size = 20\n",
    "print (\"     'NDATA' IS %d\" % (ndata))\n",
    "print (\"'BATCH_SIZE' IS %d\" % (batch_size))"
   ]
  },
  {
   "cell_type": "markdown",
   "metadata": {},
   "source": [
    "## DEFINE PLACEHOLDERS"
   ]
  },
  {
   "cell_type": "code",
   "execution_count": 7,
   "metadata": {
    "collapsed": false
   },
   "outputs": [
    {
     "name": "stdout",
     "output_type": "stream",
     "text": [
      "'sequence_length' IS [10]\n",
      "    'num_classes' IS [25]\n",
      "'X' LOOKS LIKE \n",
      "   [Tensor(\"Placeholder:0\", shape=(?, 10), dtype=int32)]\n",
      "'X_OH' LOOKS LIKE \n",
      "   [Tensor(\"one_hot:0\", shape=(?, 10, 25), dtype=float32)]\n"
     ]
    }
   ],
   "source": [
    "X = tf.placeholder(tf.int32, [None, sequence_length])\n",
    "Y = tf.placeholder(tf.int32, [None, sequence_length])\n",
    "X_OH = tf.one_hot(X, num_classes)\n",
    "print (\"'sequence_length' IS [%d]\" % (sequence_length))\n",
    "print (\"    'num_classes' IS [%d]\" % (num_classes))\n",
    "print(\"'X' LOOKS LIKE \\n   [%s]\" % (X))  \n",
    "print(\"'X_OH' LOOKS LIKE \\n   [%s]\" % (X_OH))"
   ]
  },
  {
   "cell_type": "markdown",
   "metadata": {},
   "source": [
    "## DEFINE MODEL"
   ]
  },
  {
   "cell_type": "code",
   "execution_count": 8,
   "metadata": {
    "collapsed": false
   },
   "outputs": [
    {
     "name": "stdout",
     "output_type": "stream",
     "text": [
      "OUTPUTS LOOKS LIKE [Tensor(\"CHAR-RNN/Reshape:0\", shape=(20, 10, 25), dtype=float32)]\n",
      "MODEL DEFINED.\n"
     ]
    }
   ],
   "source": [
    "with tf.variable_scope('CHAR-RNN', reuse=False):\n",
    "    cell = rnn.BasicLSTMCell(hidden_size, state_is_tuple=True)\n",
    "    cell = rnn.MultiRNNCell([cell] * 2, state_is_tuple=True)\n",
    "    # DYNAMIC RNN WITH FULLY CONNECTED LAYER\n",
    "    _outputs, _states = tf.nn.dynamic_rnn(cell, X_OH, dtype=tf.float32)\n",
    "    _outputs  = tf.contrib.layers.fully_connected(_outputs, num_classes, activation_fn=None)\n",
    "    # RESHAPE FOR SEQUNCE LOSS\n",
    "    outputs = tf.reshape(_outputs, [batch_size, sequence_length, num_classes])\n",
    "print (\"OUTPUTS LOOKS LIKE [%s]\" % (outputs))\n",
    "print (\"MODEL DEFINED.\")"
   ]
  },
  {
   "cell_type": "markdown",
   "metadata": {},
   "source": [
    "## DEFINE TF FUNCTIONS"
   ]
  },
  {
   "cell_type": "code",
   "execution_count": 9,
   "metadata": {
    "collapsed": false
   },
   "outputs": [
    {
     "name": "stdout",
     "output_type": "stream",
     "text": [
      "FUNCTIONS DEFINED.\n"
     ]
    }
   ],
   "source": [
    "# EQUAL WEIGHTS\n",
    "weights = tf.ones([batch_size, sequence_length])\n",
    "seq_loss = tf.contrib.seq2seq.sequence_loss(\n",
    "    logits=outputs, targets=Y, weights=weights)\n",
    "loss = tf.reduce_mean(seq_loss)\n",
    "optm  = tf.train.AdamOptimizer(learning_rate=0.1).minimize(loss)\n",
    "print (\"FUNCTIONS DEFINED.\")"
   ]
  },
  {
   "cell_type": "markdown",
   "metadata": {},
   "source": [
    "## OPTIMIZE"
   ]
  },
  {
   "cell_type": "code",
   "execution_count": 10,
   "metadata": {
    "collapsed": false,
    "scrolled": true
   },
   "outputs": [
    {
     "name": "stdout",
     "output_type": "stream",
     "text": [
      "0 0 yyyyyyluuu 3.21928\n",
      "0 1 uuu''ylluu 3.21928\n",
      "0 2 ukukkkklkk 3.21928\n",
      "0 3 uuuuuuuuuu 3.21928\n",
      "0 4 ktuttlllll 3.21928\n",
      "0 5 ukukkkklkk 3.21928\n",
      "0 6 yygguggggu 3.21928\n",
      "0 7 nuggggsuuu 3.21928\n",
      "0 8 uuuuu'uuu' 3.21928\n",
      "0 9 dddd'''''' 3.21928\n",
      "0 10 uluuuuh''' 3.21928\n",
      "0 11 ukkkllllll 3.21928\n",
      "0 12 sshuuuuuuu 3.21928\n",
      "0 13 uuulukkssu 3.21928\n",
      "0 14 duuuu'uuuu 3.21928\n",
      "0 15 ywwsllkell 3.21928\n",
      "0 16 d..huuuuuu 3.21928\n",
      "0 17 uuuuuuhuuu 3.21928\n",
      "0 18  ll''''''' 3.21928\n",
      "0 19 bblllllluu 3.21928\n",
      "100 0  ether te  0.368646\n",
      "100 1 tather tea 0.368646\n",
      "100 2 gity of th 0.368646\n",
      "100 3 tnd won't  0.368646\n",
      "100 4 thip, don' 0.368646\n",
      "100 5 hem teach  0.368646\n",
      "100 6 im to coll 0.368646\n",
      "100 7 hem te col 0.368646\n",
      "100 8 hach them  0.368646\n",
      "100 9 g to build 0.368646\n",
      "100 10 t wood and 0.368646\n",
      "100 11 or themend 0.368646\n",
      "100 12  ether te  0.368646\n",
      "100 13 hto cuild  0.368646\n",
      "100 14  uosks and 0.368646\n",
      "100 15 maogether  0.368646\n",
      "100 16 t them to  0.368646\n",
      "100 17  ople toge 0.368646\n",
      "100 18 cd won't a 0.368646\n",
      "100 19 hem teach  0.368646\n",
      "200 0  ensity of 0.308422\n",
      "200 1 nt wood an 0.308422\n",
      "200 2 dect wood  0.308422\n",
      "200 3 o cuild a  0.308422\n",
      "200 4 oemendless 0.308422\n",
      "200 5 ns immensi 0.308422\n",
      "200 6 sign them  0.308422\n",
      "200 7 dct wood a 0.308422\n",
      "200 8 tndless im 0.308422\n",
      "200 9 f you want 0.308422\n",
      "200 10 sty of the 0.308422\n",
      "200 11 n tasks an 0.308422\n",
      "200 12 u't drum u 0.308422\n",
      "200 13 u and don' 0.308422\n",
      "200 14 ep, don't  0.308422\n",
      "200 15 od ship, d 0.308422\n",
      "200 16 toem tasks 0.308422\n",
      "200 17 nher to co 0.308422\n",
      "200 18 oem te col 0.308422\n",
      "200 19 d a ship,  0.308422\n",
      "300 0 s but rath 0.316107\n",
      "300 1 d ess imme 0.316107\n",
      "300 2 t drum up  0.316107\n",
      "300 3  er to lon 0.316107\n",
      "300 4 em toach t 0.316107\n",
      "300 5  uosks and 0.316107\n",
      "300 6  toe endle 0.316107\n",
      "300 7  toe endle 0.316107\n",
      "300 8  ether to  0.316107\n",
      "300 9 nship, don 0.316107\n",
      "300 10 nt wood an 0.316107\n",
      "300 11  um up peo 0.316107\n",
      "300 12 n tosks an 0.316107\n",
      "300 13  g for the 0.316107\n",
      "300 14 toemendles 0.316107\n",
      "300 15   want to  0.316107\n",
      "300 16 nher to co 0.316107\n",
      "300 17 nkign them 0.316107\n",
      "300 18 lople toge 0.316107\n",
      "300 19 tndless im 0.316107\n",
      "400 0 s to build 0.250168\n",
      "400 1 lople toge 0.250168\n",
      "400 2 nfor the e 0.250168\n",
      "400 3   the endl 0.250168\n",
      "400 4 er tosks a 0.250168\n",
      "400 5 t arum up  0.250168\n",
      "400 6 er tosks a 0.250168\n",
      "400 7  le togeth 0.250168\n",
      "400 8  n't assig 0.250168\n",
      "400 9 aoe endles 0.250168\n",
      "400 10  bong for  0.250168\n",
      "400 11 aeople tog 0.250168\n",
      "400 12 aong for t 0.250168\n",
      "400 13 and don't  0.250168\n",
      "400 14 odather te 0.250168\n",
      "400 15 uild a shi 0.250168\n",
      "400 16 t wood and 0.250168\n",
      "400 17   the endl 0.250168\n",
      "400 18  n't assig 0.250168\n",
      "400 19 ss immensi 0.250168\n"
     ]
    }
   ],
   "source": [
    "sess = tf.Session()\n",
    "sess.run(tf.global_variables_initializer())\n",
    "for i in range(500):\n",
    "    randidx = np.random.randint(low=0, high=ndata, size=batch_size)\n",
    "    batchX = [dataX[iii] for iii in randidx]\n",
    "    batchY = [dataY[iii] for iii in randidx]\n",
    "    feeds = {X: batchX, Y: batchY}\n",
    "    _, loss_val, results = sess.run(\n",
    "        [optm, loss, outputs], feed_dict=feeds)\n",
    "    if (i%100) == 0:\n",
    "        for j, result in enumerate(results):\n",
    "            index = np.argmax(result, axis=1)\n",
    "            print(i, j, ''.join([char_set[t] for t in index]), loss_val)"
   ]
  },
  {
   "cell_type": "markdown",
   "metadata": {},
   "source": [
    "### SAMPLING FUNCTION "
   ]
  },
  {
   "cell_type": "code",
   "execution_count": 17,
   "metadata": {
    "collapsed": false
   },
   "outputs": [
    {
     "name": "stdout",
     "output_type": "stream",
     "text": [
      "Tensor(\"Placeholder_6:0\", shape=(?, 1), dtype=int32)\n"
     ]
    }
   ],
   "source": [
    "LEN = 1;\n",
    "# XL = tf.placeholder(tf.int32, [None, LEN])\n",
    "XL     = tf.placeholder(tf.int32, [None, 1])\n",
    "XL_OH  = tf.one_hot(XL, num_classes)\n",
    "with tf.variable_scope('CHAR-RNN', reuse=True):\n",
    "    cell_L = rnn.BasicLSTMCell(hidden_size, state_is_tuple=True)\n",
    "    cell_L = rnn.MultiRNNCell([cell_L] * 2, state_is_tuple=True)\n",
    "    istate = cell_L.zero_state(batch_size=1, dtype=tf.float32)\n",
    "    # DYNAMIC RNN WITH FULLY CONNECTED LAYER\n",
    "    _outputs_L, states_L = tf.nn.dynamic_rnn(cell_L, XL_OH\n",
    "                                , initial_state=istate, dtype=tf.float32)\n",
    "    _outputs_L  = tf.contrib.layers.fully_connected(\n",
    "        _outputs_L, num_classes, activation_fn=None)\n",
    "    # RESHAPE FOR SEQUNCE LOSS\n",
    "    outputs_L = tf.reshape(_outputs_L, [LEN, 1, num_classes])\n",
    "print (XL)"
   ]
  },
  {
   "cell_type": "markdown",
   "metadata": {},
   "source": [
    "## SAMPLE"
   ]
  },
  {
   "cell_type": "code",
   "execution_count": 53,
   "metadata": {
    "collapsed": false
   },
   "outputs": [],
   "source": [
    "# BURNIN\n",
    "prime = \"if you \"\n",
    "istateval = sess.run(cell_L.zero_state(1, tf.float32))\n",
    "for c in prime[:-1]:\n",
    "    index = char_dic[c]\n",
    "    inval = [[index]]\n",
    "    outval, stateval = sess.run([outputs_L, states_L]\n",
    "                        , feed_dict={XL:inval, istate:istateval})\n",
    "    istateval = stateval"
   ]
  },
  {
   "cell_type": "code",
   "execution_count": 58,
   "metadata": {
    "collapsed": false,
    "scrolled": true
   },
   "outputs": [
    {
     "name": "stdout",
     "output_type": "stream",
     "text": [
      "SAMPLED SETENCE: \n",
      " if you nd work, but rather teather teather teach them to long for the endless immensity of the secple together tollect wood and don't assign them to long for the endless immensity of the secple together tollect wood and don't assign them to long for the endless immensity of the secple together tollect wood and don't assign them to long for the endless immensity of the secple together tollect wood and don't assign them to long for the endless immensity of the secple together tollect wood and don't assig\n",
      "\n",
      "ORIGINAL SENTENCE: \n",
      " if you want to build a ship, don't drum up people together to collect wood and don't assign them tasks and work, but rather teach them to long for the endless immensity of the sea.\n"
     ]
    }
   ],
   "source": [
    "# SAMPLE\n",
    "inval  = [[char_dic[prime[-1]]]]\n",
    "outval, stateval = sess.run([outputs_L, states_L]\n",
    "                    , feed_dict={XL:inval, istate:istateval})\n",
    "index = np.argmax(outval)\n",
    "char  = char_set[index]\n",
    "chars = ''\n",
    "for i in range(500):\n",
    "    inval = [[index]]\n",
    "    outval, stateval = sess.run([outputs_L, states_L]\n",
    "                        , feed_dict={XL:inval, istate:istateval})\n",
    "    istateval = stateval\n",
    "    index = np.argmax(outval)\n",
    "    char  = char_set[index]\n",
    "    chars += char\n",
    "\n",
    "print (\"SAMPLED SETENCE: \\n %s\" % (prime+chars))\n",
    "print (\"\\nORIGINAL SENTENCE: \\n %s\" % (sentence))"
   ]
  }
 ],
 "metadata": {
  "kernelspec": {
   "display_name": "Python 2",
   "language": "python",
   "name": "python2"
  },
  "language_info": {
   "codemirror_mode": {
    "name": "ipython",
    "version": 2
   },
   "file_extension": ".py",
   "mimetype": "text/x-python",
   "name": "python",
   "nbconvert_exporter": "python",
   "pygments_lexer": "ipython2",
   "version": "2.7.6"
  }
 },
 "nbformat": 4,
 "nbformat_minor": 1
}
