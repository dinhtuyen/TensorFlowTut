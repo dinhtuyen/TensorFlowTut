{
 "cells": [
  {
   "cell_type": "markdown",
   "metadata": {},
   "source": [
    "## STOCK PRICING PREDICTION"
   ]
  },
  {
   "cell_type": "code",
   "execution_count": 1,
   "metadata": {},
   "outputs": [
    {
     "name": "stdout",
     "output_type": "stream",
     "text": [
      "TENSORFLOW VERSION IS [1.1.0]\n"
     ]
    }
   ],
   "source": [
    "from __future__ import print_function\n",
    "import tensorflow as tf\n",
    "import numpy as np\n",
    "import matplotlib\n",
    "import os\n",
    "import matplotlib.pyplot as plt\n",
    "%matplotlib inline\n",
    "tf.set_random_seed(0)\n",
    "print (\"TENSORFLOW VERSION IS [%s]\" % (tf.__version__))"
   ]
  },
  {
   "cell_type": "markdown",
   "metadata": {},
   "source": [
    "## LOAD DATASET "
   ]
  },
  {
   "cell_type": "code",
   "execution_count": 2,
   "metadata": {},
   "outputs": [
    {
     "name": "stdout",
     "output_type": "stream",
     "text": [
      "SHAPE OF X IS (732, 5)\n",
      "SHAPE OF Y IS (732, 1)\n"
     ]
    }
   ],
   "source": [
    "def MinMaxScaler(data):\n",
    "    numerator = data - np.min(data, 0)\n",
    "    denominator = np.max(data, 0) - np.min(data, 0)\n",
    "    return numerator / (denominator + 1e-7)\n",
    "xy = np.loadtxt('data/data-02-stock_daily.csv', delimiter=',')\n",
    "xy = xy[::-1]  # REVERSE ORDER (chronically ordered)\n",
    "xy = MinMaxScaler(xy)\n",
    "x = xy\n",
    "y = xy[:, [-1]]\n",
    "print (\"SHAPE OF X IS %s\" % (x.shape,))\n",
    "print (\"SHAPE OF Y IS %s\" % (y.shape,))"
   ]
  },
  {
   "cell_type": "markdown",
   "metadata": {},
   "source": [
    "## DATASET HAS FIVE ITEMS\n",
    "##### OPEN / HIGH / LOW / VOLUME / CLOSE\n",
    "##### OBJECTIVE IS TO PREDICT 'CLOSE' GIVEN 7 PREVIOUS ITEMS"
   ]
  },
  {
   "cell_type": "markdown",
   "metadata": {},
   "source": [
    "## BUILD A DATASET"
   ]
  },
  {
   "cell_type": "code",
   "execution_count": 3,
   "metadata": {},
   "outputs": [
    {
     "name": "stdout",
     "output_type": "stream",
     "text": [
      " [INPUT]\n",
      "[[  2.13751054e-01   2.08179810e-01   1.91791832e-01   4.66075110e-04\n",
      "    1.92092403e-01]\n",
      " [  1.93935034e-01   2.03641926e-01   2.08664571e-01   2.98467330e-03\n",
      "    1.96551555e-01]\n",
      " [  2.10516454e-01   2.05289413e-01   2.03558748e-01   2.59926504e-04\n",
      "    1.87749731e-01]\n",
      " [  1.86678765e-01   2.09480567e-01   2.08781843e-01   0.00000000e+00\n",
      "    2.17448151e-01]\n",
      " [  3.06973882e-01   3.14634137e-01   2.18993665e-01   1.24764722e-02\n",
      "    2.16981885e-01]\n",
      " [  2.19142110e-01   2.63907214e-01   2.24686396e-01   4.56323384e-01\n",
      "    2.24967473e-01]\n",
      " [  2.33129931e-01   2.36419163e-01   1.62682724e-01   5.70171193e-01\n",
      "    1.47442742e-01]] \n",
      "   =>\n",
      " [OUTPUT] \n",
      "[ 0.13289962]\n",
      "\n",
      "TYPE   OF    'dataX' IS [<type 'list'>].\n",
      "LENGTH OF    'dataX' IS [725].\n",
      "LENGTH OF 'dataX[0]' IS [7].\n",
      "\n",
      "TYPE   OF    'dataY' IS [<type 'list'>].\n",
      "LENGTH OF    'dataY' IS [725].\n",
      "LENGTH OF 'dataY[0]' IS [1].\n"
     ]
    }
   ],
   "source": [
    "timesteps = seq_length = 7\n",
    "data_dim  = 5\n",
    "dataX = []\n",
    "dataY = []\n",
    "for i in range(0, len(y) - seq_length):\n",
    "    _x = x[i:i + seq_length]\n",
    "    _y = y[i + seq_length]  # Next close price\n",
    "    dataX.append(_x)\n",
    "    dataY.append(_y)\n",
    "    if i == 0:\n",
    "        print(\" [INPUT]\\n%s \\n   =>\\n [OUTPUT] \\n%s\" % (_x, _y))\n",
    "print ()\n",
    "print (\"TYPE   OF    'dataX' IS [%s].\" % (type(dataX)))\n",
    "print (\"LENGTH OF    'dataX' IS [%d].\" % (len(dataX)))\n",
    "print (\"LENGTH OF 'dataX[0]' IS [%d].\" % (len(dataX[0])))\n",
    "print ()\n",
    "print (\"TYPE   OF    'dataY' IS [%s].\" % (type(dataY)))\n",
    "print (\"LENGTH OF    'dataY' IS [%d].\" % (len(dataY)))\n",
    "print (\"LENGTH OF 'dataY[0]' IS [%d].\" % (len(dataY[0])))"
   ]
  },
  {
   "cell_type": "markdown",
   "metadata": {},
   "source": [
    "## SPLIT TRAIN (70%) AND TEST (30%) "
   ]
  },
  {
   "cell_type": "code",
   "execution_count": 4,
   "metadata": {
    "collapsed": true
   },
   "outputs": [],
   "source": [
    "def print_np(_name, _x):\n",
    "    print(\"TYPE  OF [%s] is [%s]\" % (_name, type(_x)))\n",
    "    print(\"SHAPE OF [%s] is %s\" % (_name, _x.shape,))"
   ]
  },
  {
   "cell_type": "code",
   "execution_count": 5,
   "metadata": {},
   "outputs": [
    {
     "name": "stdout",
     "output_type": "stream",
     "text": [
      "TYPE  OF [trainX] is [<type 'numpy.ndarray'>]\n",
      "SHAPE OF [trainX] is (507, 7, 5)\n",
      "TYPE  OF [trainY] is [<type 'numpy.ndarray'>]\n",
      "SHAPE OF [trainY] is (507, 1)\n",
      "TYPE  OF [testX] is [<type 'numpy.ndarray'>]\n",
      "SHAPE OF [testX] is (218, 7, 5)\n",
      "TYPE  OF [testY] is [<type 'numpy.ndarray'>]\n",
      "SHAPE OF [testY] is (218, 1)\n"
     ]
    }
   ],
   "source": [
    "train_size = int(len(dataY) * 0.7)\n",
    "test_size  = len(dataY) - train_size\n",
    "trainX = np.array(dataX[0:train_size])\n",
    "trainY = np.array(dataY[0:train_size])\n",
    "testX  = np.array(dataX[train_size:len(dataX)])\n",
    "testY  = np.array(dataY[train_size:len(dataY)])\n",
    "print_np('trainX', trainX)\n",
    "print_np('trainY', trainY)\n",
    "print_np('testX', testX)\n",
    "print_np('testY', testY)"
   ]
  },
  {
   "cell_type": "markdown",
   "metadata": {},
   "source": [
    "## TRAIN PARAMETERS"
   ]
  },
  {
   "cell_type": "code",
   "execution_count": 6,
   "metadata": {
    "collapsed": true
   },
   "outputs": [],
   "source": [
    "hidden_dim   = 10\n",
    "output_dim   = 1\n",
    "learing_rate = 0.01\n",
    "iterations   = 500"
   ]
  },
  {
   "cell_type": "markdown",
   "metadata": {},
   "source": [
    "## DEFINE MODEL"
   ]
  },
  {
   "cell_type": "code",
   "execution_count": 7,
   "metadata": {},
   "outputs": [
    {
     "name": "stdout",
     "output_type": "stream",
     "text": [
      "'X' LOOKS LIKE Tensor(\"Placeholder:0\", shape=(?, 7, 5), dtype=float32)\n",
      "'Y' LOOKS LIKE Tensor(\"Placeholder_1:0\", shape=(?, 1), dtype=float32)\n",
      "'OUTPUTS' LOOKS LIKE Tensor(\"rnn/transpose:0\", shape=(?, 7, 10), dtype=float32)\n"
     ]
    }
   ],
   "source": [
    "# PLACEHOLDERS\n",
    "X = tf.placeholder(tf.float32, [None, seq_length, data_dim])\n",
    "Y = tf.placeholder(tf.float32, [None, 1])\n",
    "# BUILD MODEL\n",
    "cell = tf.contrib.rnn.BasicLSTMCell(\n",
    "    num_units=hidden_dim, state_is_tuple=True, activation=tf.tanh)\n",
    "outputs, _states = tf.nn.dynamic_rnn(cell, X, dtype=tf.float32)\n",
    "print (\"'X' LOOKS LIKE %s\" % (X))\n",
    "print (\"'Y' LOOKS LIKE %s\" % (Y))\n",
    "print (\"'OUTPUTS' LOOKS LIKE %s\" % (outputs))"
   ]
  },
  {
   "cell_type": "markdown",
   "metadata": {},
   "source": [
    " NOTE THAT, INPUT TO A RNN SHOULD LOOK LIKE: \n",
    " [BATCH, SEG_LENGTH, DATA_DIM]"
   ]
  },
  {
   "cell_type": "markdown",
   "metadata": {},
   "source": [
    "## ADD DENSE LAYER FOR REGRESSION"
   ]
  },
  {
   "cell_type": "code",
   "execution_count": 8,
   "metadata": {},
   "outputs": [
    {
     "name": "stdout",
     "output_type": "stream",
     "text": [
      "'Y_PRED' LOOKS LIKE Tensor(\"fully_connected/BiasAdd:0\", shape=(?, 1), dtype=float32)\n"
     ]
    }
   ],
   "source": [
    "Y_pred = tf.contrib.layers.fully_connected(\n",
    "    outputs[:, -1], output_dim, activation_fn=None)  # We use the last cell's output\n",
    "print (\"'Y_PRED' LOOKS LIKE %s\" % (Y_pred))"
   ]
  },
  {
   "cell_type": "markdown",
   "metadata": {},
   "source": [
    "## DEFINE OPERATORS"
   ]
  },
  {
   "cell_type": "code",
   "execution_count": 9,
   "metadata": {},
   "outputs": [
    {
     "name": "stdout",
     "output_type": "stream",
     "text": [
      "MODEL DEFINED\n"
     ]
    }
   ],
   "source": [
    "# OPTIMIZER \n",
    "loss = tf.reduce_mean(tf.square(Y_pred - Y))  # sum of the squares\n",
    "optm = tf.train.AdamOptimizer(learing_rate).minimize(loss)\n",
    "\n",
    "# RMSE\n",
    "targets     = tf.placeholder(tf.float32, [None, 1])\n",
    "predictions = tf.placeholder(tf.float32, [None, 1])\n",
    "rmse        = tf.sqrt(tf.reduce_mean(tf.square(targets - predictions)))\n",
    "print (\"MODEL DEFINED\")"
   ]
  },
  {
   "cell_type": "markdown",
   "metadata": {},
   "source": [
    "## RUN"
   ]
  },
  {
   "cell_type": "code",
   "execution_count": 10,
   "metadata": {},
   "outputs": [
    {
     "name": "stdout",
     "output_type": "stream",
     "text": [
      "[0/500] lossval: 0.3798\n",
      "[100/500] lossval: 0.0019\n",
      "[200/500] lossval: 0.0017\n",
      "[300/500] lossval: 0.0015\n",
      "[400/500] lossval: 0.0013\n",
      "OPTIMIZATION FINISHED\n"
     ]
    }
   ],
   "source": [
    "config = tf.ConfigProto()\n",
    "config.gpu_options.allow_growth=True\n",
    "sess = tf.Session(config=config)\n",
    "init = tf.global_variables_initializer()\n",
    "sess.run(init)\n",
    "\n",
    "# TRAIN\n",
    "losses = []\n",
    "for i in range(iterations):\n",
    "    _, lossval = sess.run([optm, loss], feed_dict={\n",
    "                            X: trainX, Y: trainY})\n",
    "    losses.append(lossval)\n",
    "    if i % 100 == 0: \n",
    "        print (\"[%d/%d] lossval: %.4f\" % (i, iterations, lossval))\n",
    "print (\"OPTIMIZATION FINISHED\")"
   ]
  },
  {
   "cell_type": "markdown",
   "metadata": {},
   "source": [
    "### PLOT LOSS"
   ]
  },
  {
   "cell_type": "code",
   "execution_count": 11,
   "metadata": {},
   "outputs": [
    {
     "data": {
      "text/plain": [
       "<matplotlib.text.Text at 0x7f723c229690>"
      ]
     },
     "execution_count": 11,
     "metadata": {},
     "output_type": "execute_result"
    },
    {
     "data": {
      "image/png": "[encoded data removed]",
      "text/plain": [
       "<matplotlib.figure.Figure at 0x7f723d2a2d90>"
      ]
     },
     "metadata": {},
     "output_type": "display_data"
    }
   ],
   "source": [
    "losslist = [_lossval for _lossval in losses]\n",
    "plt.figure(figsize=(6, 3))\n",
    "plt.plot(losslist, label='With BN')\n",
    "plt.title(\"LOSS\")"
   ]
  },
  {
   "cell_type": "markdown",
   "metadata": {},
   "source": [
    "## TEST"
   ]
  },
  {
   "cell_type": "code",
   "execution_count": 12,
   "metadata": {},
   "outputs": [
    {
     "name": "stdout",
     "output_type": "stream",
     "text": [
      "TYPE  OF [testX] is [<type 'numpy.ndarray'>]\n",
      "SHAPE OF [testX] is (218, 7, 5)\n",
      "TYPE  OF [test_predict] is [<type 'numpy.ndarray'>]\n",
      "SHAPE OF [test_predict] is (218, 1)\n",
      "RMSE: 0.0291022937745\n"
     ]
    }
   ],
   "source": [
    "test_predict = sess.run(Y_pred, feed_dict={X: testX})\n",
    "rmse = sess.run(rmse, feed_dict={\n",
    "                targets: testY, predictions: test_predict})\n",
    "print_np('testX', testX)\n",
    "print_np('test_predict', test_predict)\n",
    "print(\"RMSE: {}\".format(rmse))"
   ]
  },
  {
   "cell_type": "markdown",
   "metadata": {},
   "source": [
    "### Plot predictions"
   ]
  },
  {
   "cell_type": "code",
   "execution_count": 13,
   "metadata": {},
   "outputs": [
    {
     "data": {
      "image/png": "[encoded data removed]",
      "text/plain": [
       "<matplotlib.figure.Figure at 0x7f723c1a68d0>"
      ]
     },
     "metadata": {},
     "output_type": "display_data"
    }
   ],
   "source": [
    "plt.plot(testY)\n",
    "plt.plot(test_predict)\n",
    "plt.xlabel(\"Time Period\")\n",
    "plt.ylabel(\"Stock Price\")\n",
    "plt.show()"
   ]
  }
 ],
 "metadata": {
  "kernelspec": {
   "display_name": "Python 2",
   "language": "python",
   "name": "python2"
  },
  "language_info": {
   "codemirror_mode": {
    "name": "ipython",
    "version": 2
   },
   "file_extension": ".py",
   "mimetype": "text/x-python",
   "name": "python",
   "nbconvert_exporter": "python",
   "pygments_lexer": "ipython2",
   "version": "2.7.12"
  }
 },
 "nbformat": 4,
 "nbformat_minor": 1
}
