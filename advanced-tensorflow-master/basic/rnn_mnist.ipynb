{
 "cells": [
  {
   "cell_type": "markdown",
   "metadata": {},
   "source": [
    "## SEQUENCE CLASSIFICATION"
   ]
  },
  {
   "cell_type": "code",
   "execution_count": 1,
   "metadata": {},
   "outputs": [
    {
     "name": "stdout",
     "output_type": "stream",
     "text": [
      "PACKAGES LOADED\n"
     ]
    }
   ],
   "source": [
    "import tensorflow as tf\n",
    "import tensorflow.examples.tutorials.mnist.input_data as input_data\n",
    "import tensorflow.contrib.rnn as rnn\n",
    "import numpy as np\n",
    "import matplotlib.pyplot as plt\n",
    "%matplotlib inline \n",
    "print (\"PACKAGES LOADED\")"
   ]
  },
  {
   "cell_type": "markdown",
   "metadata": {},
   "source": [
    "### GET MNIST"
   ]
  },
  {
   "cell_type": "code",
   "execution_count": 2,
   "metadata": {},
   "outputs": [
    {
     "name": "stdout",
     "output_type": "stream",
     "text": [
      "Extracting data/train-images-idx3-ubyte.gz\n",
      "Extracting data/train-labels-idx1-ubyte.gz\n",
      "Extracting data/t10k-images-idx3-ubyte.gz\n",
      "Extracting data/t10k-labels-idx1-ubyte.gz\n",
      "MNIST LOADED\n",
      "TF VERSION 1.1.0\n"
     ]
    }
   ],
   "source": [
    "MNIST = input_data.read_data_sets(\"data/\", one_hot=True)\n",
    "trainimgs, trainlabels, testimgs, testlabels \\\n",
    " = MNIST.train.images, MNIST.train.labels, MNIST.test.images, MNIST.test.labels \n",
    "ntrain, ntest, dim, nclasses \\\n",
    " = trainimgs.shape[0], testimgs.shape[0], trainimgs.shape[1], trainlabels.shape[1]\n",
    "print (\"MNIST LOADED\")\n",
    "print (\"TF VERSION %s\" % (tf.__version__))"
   ]
  },
  {
   "cell_type": "markdown",
   "metadata": {},
   "source": [
    "## THIS IS HOW RNN WILL WORK"
   ]
  },
  {
   "cell_type": "markdown",
   "metadata": {},
   "source": [
    "<img src=\"data/1.jpg\" width=\"600\"/>\n",
    "<img src=\"data/2.jpg\" width=\"600\"/> "
   ]
  },
  {
   "cell_type": "markdown",
   "metadata": {},
   "source": [
    "## DEFINE MODEL"
   ]
  },
  {
   "cell_type": "code",
   "execution_count": 3,
   "metadata": {
    "collapsed": true
   },
   "outputs": [],
   "source": [
    "diminput  = 28\n",
    "dimhidden = 128\n",
    "dimoutput = nclasses\n",
    "nsteps    = 28\n",
    "weights = {\n",
    "    'hidden': tf.Variable(tf.random_normal([diminput, dimhidden])), \n",
    "    'out': tf.Variable(tf.random_normal([dimhidden, dimoutput]))\n",
    "}\n",
    "biases = {\n",
    "    'hidden': tf.Variable(tf.random_normal([dimhidden])),\n",
    "    'out': tf.Variable(tf.random_normal([dimoutput]))\n",
    "}"
   ]
  },
  {
   "cell_type": "markdown",
   "metadata": {},
   "source": [
    "### DEFINE FUNCTION"
   ]
  },
  {
   "cell_type": "code",
   "execution_count": 4,
   "metadata": {},
   "outputs": [
    {
     "name": "stdout",
     "output_type": "stream",
     "text": [
      "FUNCTION READY\n"
     ]
    }
   ],
   "source": [
    "def _RNN(_X, _istate, _W, _b, _nsteps, _name):\n",
    "    # 1. PERMUTE INPUT FROM [batchsize, nsteps, diminput] \n",
    "    #     TO [nsteps, batchsize, diminput]\n",
    "    _X = tf.transpose(_X, [1, 0, 2])\n",
    "    # 2. RESHAPE INPUT TO [nsteps*batchsize, diminput] \n",
    "    _X = tf.reshape(_X, [-1, diminput])\n",
    "    # 3. INPUT TO HIDDEN LAYER\n",
    "    _H = tf.matmul(_X, _W['hidden']) + _b['hidden']\n",
    "    # 4. SPLIT DATA TO 'NSTEPS' CHUNKS => LIST\n",
    "    _Hsplit = tf.split(_H, _nsteps, axis=0) \n",
    "    # 5. GET LSTM'S FINAL OUTPUT (_LSTM_O) AND STATE (_LSTM_S)\n",
    "    with tf.variable_scope(_name):\n",
    "        # RNN <= TF.CONTRIB.RNN\n",
    "        lstm_cell = rnn.BasicLSTMCell(dimhidden, forget_bias=1.0\n",
    "                                        , state_is_tuple=False)\n",
    "        _LSTM_O, _LSTM_S = rnn.static_rnn(lstm_cell\n",
    "                                        , _Hsplit, initial_state=_istate)\n",
    "    # OUTPUT\n",
    "    _O = tf.matmul(_LSTM_O[-1], _W['out']) + _b['out']    \n",
    "    return {\n",
    "        'X': _X, 'H': _H, 'Hsplit': _Hsplit,\n",
    "        'LSTM_O': _LSTM_O, 'LSTM_S': _LSTM_S, 'O': _O \n",
    "    }\n",
    "print (\"FUNCTION READY\")"
   ]
  },
  {
   "cell_type": "markdown",
   "metadata": {},
   "source": [
    "## DEFINE GRAPH"
   ]
  },
  {
   "cell_type": "code",
   "execution_count": 5,
   "metadata": {},
   "outputs": [
    {
     "name": "stdout",
     "output_type": "stream",
     "text": [
      "WARNING:tensorflow:<tensorflow.contrib.rnn.python.ops.core_rnn_cell_impl.BasicLSTMCell object at 0x7f1d19140110>: Using a concatenated state is slower and will soon be deprecated.  Use state_is_tuple=True.\n",
      "NETWORK READY\n"
     ]
    }
   ],
   "source": [
    "learning_rate = 0.001\n",
    "x      = tf.placeholder(\"float\", [None, nsteps, diminput])\n",
    "istate = tf.placeholder(\"float\", [None, 2*dimhidden]) \n",
    "    # state & cell => 2x n_hidden\n",
    "y      = tf.placeholder(\"float\", [None, dimoutput])\n",
    "myrnn  = _RNN(x, istate, weights, biases, nsteps, 'basic')\n",
    "pred   = myrnn['O']\n",
    "celoss = tf.nn.softmax_cross_entropy_with_logits\n",
    "cost   = tf.reduce_mean(celoss(logits=pred, labels=y)) \n",
    "optm   = tf.train.AdamOptimizer(learning_rate).minimize(cost) \n",
    "accr   = tf.reduce_mean(tf.cast(tf.equal(tf.argmax(pred,1), tf.argmax(y,1)), tf.float32))\n",
    "init   = tf.global_variables_initializer()\n",
    "print (\"NETWORK READY\")"
   ]
  },
  {
   "cell_type": "markdown",
   "metadata": {},
   "source": [
    "## RUN"
   ]
  },
  {
   "cell_type": "code",
   "execution_count": 6,
   "metadata": {
    "collapsed": true
   },
   "outputs": [],
   "source": [
    "training_epochs = 5\n",
    "batch_size      = 128\n",
    "display_step    = 1\n",
    "config = tf.ConfigProto()\n",
    "config.gpu_options.allow_growth=True\n",
    "sess = tf.Session(config=config)\n",
    "sess.run(init)"
   ]
  },
  {
   "cell_type": "markdown",
   "metadata": {},
   "source": [
    "### OPTIMIZE"
   ]
  },
  {
   "cell_type": "code",
   "execution_count": 7,
   "metadata": {},
   "outputs": [
    {
     "name": "stdout",
     "output_type": "stream",
     "text": [
      "START OPTIMIZATION.\n",
      "EPOCH: 000/005 COST: 0.509958103\n",
      " TRAIN ACCURACY: 0.898\n",
      "  TEST ACCURACY: 0.925\n",
      "EPOCH: 001/005 COST: 0.142724375\n",
      " TRAIN ACCURACY: 0.953\n",
      "  TEST ACCURACY: 0.958\n",
      "EPOCH: 002/005 COST: 0.085474320\n",
      " TRAIN ACCURACY: 0.961\n",
      "  TEST ACCURACY: 0.967\n",
      "EPOCH: 003/005 COST: 0.063426886\n",
      " TRAIN ACCURACY: 0.992\n",
      "  TEST ACCURACY: 0.970\n",
      "EPOCH: 004/005 COST: 0.050130486\n",
      " TRAIN ACCURACY: 0.984\n",
      "  TEST ACCURACY: 0.972\n",
      "OPTIMIZATION FINISHED.\n"
     ]
    }
   ],
   "source": [
    "print (\"START OPTIMIZATION.\")\n",
    "for epoch in range(training_epochs):\n",
    "    avg_cost = 0.\n",
    "    total_batch = int(MNIST.train.num_examples/batch_size)\n",
    "    # Loop over all batches\n",
    "    for i in range(total_batch):\n",
    "        batch_xs, batch_ys = MNIST.train.next_batch(batch_size)\n",
    "        batch_xs = batch_xs.reshape((batch_size, nsteps, diminput))\n",
    "        # Fit training using batch data\n",
    "        feeds = {x: batch_xs, y: batch_ys, istate: np.zeros((batch_size, 2*dimhidden))}\n",
    "        sess.run(optm, feed_dict=feeds)\n",
    "        # Compute average loss\n",
    "        avg_cost += sess.run(cost, feed_dict=feeds)/total_batch\n",
    "    # Display logs per epoch step\n",
    "    if epoch % display_step == 0: \n",
    "        print (\"EPOCH: %03d/%03d COST: %.9f\" % (epoch, training_epochs, avg_cost))\n",
    "        feeds = {x: batch_xs, y: batch_ys, istate: np.zeros((batch_size, 2*dimhidden))}\n",
    "        train_acc = sess.run(accr, feed_dict=feeds)\n",
    "        print (\" TRAIN ACCURACY: %.3f\" % (train_acc))\n",
    "        testimgs = testimgs.reshape((ntest, nsteps, diminput))\n",
    "        feeds = {x: testimgs, y: testlabels, istate: np.zeros((ntest, 2*dimhidden))}\n",
    "        test_acc = sess.run(accr, feed_dict=feeds)\n",
    "        print (\"  TEST ACCURACY: %.3f\" % (test_acc))\n",
    "print (\"OPTIMIZATION FINISHED.\")"
   ]
  },
  {
   "cell_type": "markdown",
   "metadata": {},
   "source": [
    "## WHAT IF WE USE SMALLER NUMBER OF SEQS?"
   ]
  },
  {
   "cell_type": "code",
   "execution_count": 8,
   "metadata": {},
   "outputs": [
    {
     "name": "stdout",
     "output_type": "stream",
     "text": [
      " WITH [24] SEQS, TEST ACCR IS [0.696]\n",
      " WITH [25] SEQS, TEST ACCR IS [0.812]\n",
      " WITH [26] SEQS, TEST ACCR IS [0.917]\n",
      " WITH [27] SEQS, TEST ACCR IS [0.962]\n",
      " WITH [28] SEQS, TEST ACCR IS [0.972]\n"
     ]
    }
   ],
   "source": [
    "for _nsteps in [24, 25, 26, 27, 28]:\n",
    "    # TEST WITH TRUNCATED SEQS\n",
    "    testimgs = testimgs.reshape((ntest, nsteps, diminput))\n",
    "    testimgs_trucated = np.zeros(testimgs.shape)\n",
    "    testimgs_trucated[:, 28-_nsteps:] = testimgs[:, :_nsteps, :]\n",
    "    feeds = {x: testimgs_trucated, y: testlabels\n",
    "             , istate: np.zeros((ntest, 2*dimhidden))}\n",
    "    test_acc = sess.run(accr, feed_dict=feeds)\n",
    "    print (\" WITH [%d] SEQS, TEST ACCR IS [%.3f]\" \n",
    "           % (_nsteps, test_acc))"
   ]
  },
  {
   "cell_type": "markdown",
   "metadata": {},
   "source": [
    "## INSIDE RNN"
   ]
  },
  {
   "cell_type": "markdown",
   "metadata": {},
   "source": [
    "### INPUTS TO THE RNN"
   ]
  },
  {
   "cell_type": "code",
   "execution_count": 9,
   "metadata": {},
   "outputs": [
    {
     "name": "stdout",
     "output_type": "stream",
     "text": [
      "Shape of 'xtest' is (5, 784)\n"
     ]
    }
   ],
   "source": [
    "batch_size = 5\n",
    "xtest, _ = MNIST.test.next_batch(batch_size)\n",
    "print (\"Shape of 'xtest' is %s\" % (xtest.shape,))"
   ]
  },
  {
   "cell_type": "markdown",
   "metadata": {},
   "source": [
    "### RESHAPED INPUTS"
   ]
  },
  {
   "cell_type": "code",
   "execution_count": 10,
   "metadata": {},
   "outputs": [
    {
     "name": "stdout",
     "output_type": "stream",
     "text": [
      "Batch size is: [5]\n",
      "Shape of 'xtest1' is (5, 28, 28)\n"
     ]
    }
   ],
   "source": [
    "xtest1 = xtest.reshape((batch_size, nsteps, diminput))\n",
    "print (\"Batch size is: [%d]\" % (batch_size))\n",
    "print (\"Shape of 'xtest1' is %s\" % (xtest1.shape,))"
   ]
  },
  {
   "cell_type": "markdown",
   "metadata": {},
   "source": [
    "### FEEDS"
   ]
  },
  {
   "cell_type": "code",
   "execution_count": 11,
   "metadata": {
    "collapsed": true
   },
   "outputs": [],
   "source": [
    "feeds = {x: xtest1, istate: np.zeros((batch_size, 2*dimhidden))}"
   ]
  },
  {
   "cell_type": "markdown",
   "metadata": {},
   "source": [
    "### INDIVISUAL INPUT TO THE LSTM"
   ]
  },
  {
   "cell_type": "code",
   "execution_count": 12,
   "metadata": {},
   "outputs": [
    {
     "name": "stdout",
     "output_type": "stream",
     "text": [
      "Shape of 'rnnout_X' is (140, 28)\n"
     ]
    }
   ],
   "source": [
    "rnnout_X = sess.run(myrnn['X'], feed_dict=feeds)\n",
    "print (\"Shape of 'rnnout_X' is %s\" % (rnnout_X.shape,))"
   ]
  },
  {
   "cell_type": "markdown",
   "metadata": {},
   "source": [
    "### INTERMEDIATE STATE"
   ]
  },
  {
   "cell_type": "code",
   "execution_count": 13,
   "metadata": {},
   "outputs": [
    {
     "name": "stdout",
     "output_type": "stream",
     "text": [
      "Shape of 'rnnout_H' is (140, 128)\n"
     ]
    }
   ],
   "source": [
    "rnnout_H = sess.run(myrnn['H'], feed_dict=feeds)\n",
    "print (\"Shape of 'rnnout_H' is %s\" % (rnnout_H.shape,))"
   ]
  },
  {
   "cell_type": "markdown",
   "metadata": {},
   "source": [
    "### ACTUAL INPUT TO LSTSM (LIST)"
   ]
  },
  {
   "cell_type": "code",
   "execution_count": 14,
   "metadata": {},
   "outputs": [
    {
     "name": "stdout",
     "output_type": "stream",
     "text": [
      "Type of 'rnnout_Hsplit' is <type 'list'>\n",
      "Length of 'rnnout_Hsplit' is 28 and the shape of each item is (5, 128)\n"
     ]
    }
   ],
   "source": [
    "rnnout_Hsplit = sess.run(myrnn['Hsplit'], feed_dict=feeds)\n",
    "print (\"Type of 'rnnout_Hsplit' is %s\" % (type(rnnout_Hsplit)))\n",
    "print (\"Length of 'rnnout_Hsplit' is %s and the shape of each item is %s\" \n",
    "       % (len(rnnout_Hsplit), rnnout_Hsplit[0].shape))"
   ]
  },
  {
   "cell_type": "markdown",
   "metadata": {},
   "source": [
    "### OUTPUT FROM THE LSTM (LIST)"
   ]
  },
  {
   "cell_type": "code",
   "execution_count": 15,
   "metadata": {},
   "outputs": [
    {
     "name": "stdout",
     "output_type": "stream",
     "text": [
      "Type of 'rnnout_LSTM_O' is <type 'list'>\n",
      "Length of 'rnnout_LSTM_O' is 28 and the shape of each item is (5, 128)\n"
     ]
    }
   ],
   "source": [
    "rnnout_LSTM_O = sess.run(myrnn['LSTM_O'], feed_dict=feeds)\n",
    "print (\"Type of 'rnnout_LSTM_O' is %s\" % (type(rnnout_LSTM_O)))\n",
    "print (\"Length of 'rnnout_LSTM_O' is %s and the shape of each item is %s\" \n",
    "       % (len(rnnout_LSTM_O), rnnout_LSTM_O[0].shape))"
   ]
  },
  {
   "cell_type": "markdown",
   "metadata": {},
   "source": [
    "### FINAL PREDICTION"
   ]
  },
  {
   "cell_type": "code",
   "execution_count": 16,
   "metadata": {},
   "outputs": [
    {
     "name": "stdout",
     "output_type": "stream",
     "text": [
      "Shape of 'rnnout_O' is (5, 10)\n"
     ]
    }
   ],
   "source": [
    "rnnout_O = sess.run(myrnn['O'], feed_dict=feeds)\n",
    "print (\"Shape of 'rnnout_O' is %s\" % (rnnout_O.shape,))"
   ]
  }
 ],
 "metadata": {
  "kernelspec": {
   "display_name": "Python 2",
   "language": "python",
   "name": "python2"
  },
  "language_info": {
   "codemirror_mode": {
    "name": "ipython",
    "version": 2
   },
   "file_extension": ".py",
   "mimetype": "text/x-python",
   "name": "python",
   "nbconvert_exporter": "python",
   "pygments_lexer": "ipython2",
   "version": "2.7.12"
  }
 },
 "nbformat": 4,
 "nbformat_minor": 1
}
